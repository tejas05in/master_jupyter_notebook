{
 "cells": [
  {
   "cell_type": "code",
   "execution_count": 52,
   "id": "d8f738b8-88e1-4312-9501-95805183e536",
   "metadata": {},
   "outputs": [
    {
     "data": {
      "text/html": [
       "<div>\n",
       "<style scoped>\n",
       "    .dataframe tbody tr th:only-of-type {\n",
       "        vertical-align: middle;\n",
       "    }\n",
       "\n",
       "    .dataframe tbody tr th {\n",
       "        vertical-align: top;\n",
       "    }\n",
       "\n",
       "    .dataframe thead th {\n",
       "        text-align: right;\n",
       "    }\n",
       "</style>\n",
       "<table border=\"1\" class=\"dataframe\">\n",
       "  <thead>\n",
       "    <tr style=\"text-align: right;\">\n",
       "      <th></th>\n",
       "      <th>Age</th>\n",
       "      <th>Pclass</th>\n",
       "      <th>Fare</th>\n",
       "      <th>Survived</th>\n",
       "    </tr>\n",
       "  </thead>\n",
       "  <tbody>\n",
       "    <tr>\n",
       "      <th>0</th>\n",
       "      <td>22.0</td>\n",
       "      <td>3</td>\n",
       "      <td>7.2500</td>\n",
       "      <td>0</td>\n",
       "    </tr>\n",
       "    <tr>\n",
       "      <th>1</th>\n",
       "      <td>38.0</td>\n",
       "      <td>1</td>\n",
       "      <td>71.2833</td>\n",
       "      <td>1</td>\n",
       "    </tr>\n",
       "    <tr>\n",
       "      <th>2</th>\n",
       "      <td>26.0</td>\n",
       "      <td>3</td>\n",
       "      <td>7.9250</td>\n",
       "      <td>1</td>\n",
       "    </tr>\n",
       "    <tr>\n",
       "      <th>3</th>\n",
       "      <td>35.0</td>\n",
       "      <td>1</td>\n",
       "      <td>53.1000</td>\n",
       "      <td>1</td>\n",
       "    </tr>\n",
       "    <tr>\n",
       "      <th>4</th>\n",
       "      <td>35.0</td>\n",
       "      <td>3</td>\n",
       "      <td>8.0500</td>\n",
       "      <td>0</td>\n",
       "    </tr>\n",
       "  </tbody>\n",
       "</table>\n",
       "</div>"
      ],
      "text/plain": [
       "    Age  Pclass     Fare  Survived\n",
       "0  22.0       3   7.2500         0\n",
       "1  38.0       1  71.2833         1\n",
       "2  26.0       3   7.9250         1\n",
       "3  35.0       1  53.1000         1\n",
       "4  35.0       3   8.0500         0"
      ]
     },
     "execution_count": 52,
     "metadata": {},
     "output_type": "execute_result"
    }
   ],
   "source": [
    "import numpy as np\n",
    "import pandas as pd\n",
    "\n",
    "from sklearn.model_selection import train_test_split\n",
    "from sklearn.impute import KNNImputer , SimpleImputer\n",
    "from sklearn.linear_model import LogisticRegression\n",
    "\n",
    "from sklearn.metrics import accuracy_score\n",
    "\n",
    "df = pd.read_csv(\"https://raw.githubusercontent.com/datasciencedojo/datasets/master/titanic.csv\")[[\"Age\",\"Pclass\",\"Fare\",\"Survived\"]]\n",
    "\n",
    "df.head()"
   ]
  },
  {
   "cell_type": "code",
   "execution_count": 53,
   "id": "584a411e-20ac-48eb-bad8-8ff3d01060f8",
   "metadata": {},
   "outputs": [
    {
     "name": "stdout",
     "output_type": "stream",
     "text": [
      "D:\\Python\\python_projects\\master_jupyter_notebook\n"
     ]
    }
   ],
   "source": [
    "!cd"
   ]
  },
  {
   "cell_type": "code",
   "execution_count": 54,
   "id": "3b687255-9498-4a68-ad70-093ae43fe45d",
   "metadata": {},
   "outputs": [
    {
     "name": "stdout",
     "output_type": "stream",
     "text": [
      " Volume in drive D has no label.\n",
      " Volume Serial Number is C496-2329\n",
      "\n",
      " Directory of D:\\Python\\python_projects\\master_jupyter_notebook\n",
      "\n",
      "03/17/2024  01:39 PM    <DIR>          .\n",
      "03/15/2024  12:28 AM    <DIR>          ..\n",
      "03/15/2024  11:04 PM             3,229 .gitignore\n",
      "03/15/2024  12:35 AM    <DIR>          .ipynb_checkpoints\n",
      "03/15/2024  12:34 AM    <DIR>          env\n",
      "03/17/2024  01:30 PM                76 example.txt\n",
      "03/17/2024  01:30 PM                92 hello_world.py\n",
      "03/17/2024  01:39 PM           236,551 knn_imputer.ipynb\n",
      "03/15/2024  01:00 AM                58 requirements.txt\n",
      "03/17/2024  12:58 AM                12 sum.py\n",
      "               6 File(s)        240,018 bytes\n",
      "               4 Dir(s)  65,664,921,600 bytes free\n"
     ]
    }
   ],
   "source": [
    "!dir"
   ]
  },
  {
   "cell_type": "code",
   "execution_count": 55,
   "id": "df729adf-0f6a-443b-916f-b7d1fff6df4c",
   "metadata": {},
   "outputs": [
    {
     "name": "stdout",
     "output_type": "stream",
     "text": [
      "Requirement already satisfied: numpy in d:\\python\\python_projects\\master_jupyter_notebook\\env\\lib\\site-packages (1.24.4)\n"
     ]
    }
   ],
   "source": [
    "!pip install numpy"
   ]
  },
  {
   "cell_type": "code",
   "execution_count": 56,
   "id": "b3e90a84-4414-48d4-8fcc-06727bf3c1d7",
   "metadata": {},
   "outputs": [
    {
     "name": "stdout",
     "output_type": "stream",
     "text": [
      "Reinitialized existing Git repository in D:/Python/python_projects/master_jupyter_notebook/.git/\n"
     ]
    }
   ],
   "source": [
    "!git init"
   ]
  },
  {
   "cell_type": "markdown",
   "id": "69ce6f7c-4eeb-470c-85c9-d88921783106",
   "metadata": {},
   "source": [
    "## Display all rows and columns"
   ]
  },
  {
   "cell_type": "code",
   "execution_count": 57,
   "id": "8e72ebf2-f8a4-4bb0-916b-1804487394d6",
   "metadata": {},
   "outputs": [],
   "source": [
    "df = pd.read_csv(\"https://raw.githubusercontent.com/datasciencedojo/datasets/master/titanic.csv\")"
   ]
  },
  {
   "cell_type": "code",
   "execution_count": 58,
   "id": "063fe9d5-65ff-44a2-a432-985e8cdb5a9a",
   "metadata": {},
   "outputs": [
    {
     "data": {
      "text/html": [
       "<div>\n",
       "<style scoped>\n",
       "    .dataframe tbody tr th:only-of-type {\n",
       "        vertical-align: middle;\n",
       "    }\n",
       "\n",
       "    .dataframe tbody tr th {\n",
       "        vertical-align: top;\n",
       "    }\n",
       "\n",
       "    .dataframe thead th {\n",
       "        text-align: right;\n",
       "    }\n",
       "</style>\n",
       "<table border=\"1\" class=\"dataframe\">\n",
       "  <thead>\n",
       "    <tr style=\"text-align: right;\">\n",
       "      <th></th>\n",
       "      <th>PassengerId</th>\n",
       "      <th>Survived</th>\n",
       "      <th>Pclass</th>\n",
       "      <th>Name</th>\n",
       "      <th>Sex</th>\n",
       "      <th>...</th>\n",
       "      <th>Parch</th>\n",
       "      <th>Ticket</th>\n",
       "      <th>Fare</th>\n",
       "      <th>Cabin</th>\n",
       "      <th>Embarked</th>\n",
       "    </tr>\n",
       "  </thead>\n",
       "  <tbody>\n",
       "    <tr>\n",
       "      <th>0</th>\n",
       "      <td>1</td>\n",
       "      <td>0</td>\n",
       "      <td>3</td>\n",
       "      <td>Braund, Mr. Owen Harris</td>\n",
       "      <td>male</td>\n",
       "      <td>...</td>\n",
       "      <td>0</td>\n",
       "      <td>A/5 21171</td>\n",
       "      <td>7.2500</td>\n",
       "      <td>NaN</td>\n",
       "      <td>S</td>\n",
       "    </tr>\n",
       "    <tr>\n",
       "      <th>1</th>\n",
       "      <td>2</td>\n",
       "      <td>1</td>\n",
       "      <td>1</td>\n",
       "      <td>Cumings, Mrs. John Bradley (Florence Briggs Th...</td>\n",
       "      <td>female</td>\n",
       "      <td>...</td>\n",
       "      <td>0</td>\n",
       "      <td>PC 17599</td>\n",
       "      <td>71.2833</td>\n",
       "      <td>C85</td>\n",
       "      <td>C</td>\n",
       "    </tr>\n",
       "    <tr>\n",
       "      <th>2</th>\n",
       "      <td>3</td>\n",
       "      <td>1</td>\n",
       "      <td>3</td>\n",
       "      <td>Heikkinen, Miss. Laina</td>\n",
       "      <td>female</td>\n",
       "      <td>...</td>\n",
       "      <td>0</td>\n",
       "      <td>STON/O2. 3101282</td>\n",
       "      <td>7.9250</td>\n",
       "      <td>NaN</td>\n",
       "      <td>S</td>\n",
       "    </tr>\n",
       "    <tr>\n",
       "      <th>3</th>\n",
       "      <td>4</td>\n",
       "      <td>1</td>\n",
       "      <td>1</td>\n",
       "      <td>Futrelle, Mrs. Jacques Heath (Lily May Peel)</td>\n",
       "      <td>female</td>\n",
       "      <td>...</td>\n",
       "      <td>0</td>\n",
       "      <td>113803</td>\n",
       "      <td>53.1000</td>\n",
       "      <td>C123</td>\n",
       "      <td>S</td>\n",
       "    </tr>\n",
       "    <tr>\n",
       "      <th>4</th>\n",
       "      <td>5</td>\n",
       "      <td>0</td>\n",
       "      <td>3</td>\n",
       "      <td>Allen, Mr. William Henry</td>\n",
       "      <td>male</td>\n",
       "      <td>...</td>\n",
       "      <td>0</td>\n",
       "      <td>373450</td>\n",
       "      <td>8.0500</td>\n",
       "      <td>NaN</td>\n",
       "      <td>S</td>\n",
       "    </tr>\n",
       "    <tr>\n",
       "      <th>...</th>\n",
       "      <td>...</td>\n",
       "      <td>...</td>\n",
       "      <td>...</td>\n",
       "      <td>...</td>\n",
       "      <td>...</td>\n",
       "      <td>...</td>\n",
       "      <td>...</td>\n",
       "      <td>...</td>\n",
       "      <td>...</td>\n",
       "      <td>...</td>\n",
       "      <td>...</td>\n",
       "    </tr>\n",
       "    <tr>\n",
       "      <th>886</th>\n",
       "      <td>887</td>\n",
       "      <td>0</td>\n",
       "      <td>2</td>\n",
       "      <td>Montvila, Rev. Juozas</td>\n",
       "      <td>male</td>\n",
       "      <td>...</td>\n",
       "      <td>0</td>\n",
       "      <td>211536</td>\n",
       "      <td>13.0000</td>\n",
       "      <td>NaN</td>\n",
       "      <td>S</td>\n",
       "    </tr>\n",
       "    <tr>\n",
       "      <th>887</th>\n",
       "      <td>888</td>\n",
       "      <td>1</td>\n",
       "      <td>1</td>\n",
       "      <td>Graham, Miss. Margaret Edith</td>\n",
       "      <td>female</td>\n",
       "      <td>...</td>\n",
       "      <td>0</td>\n",
       "      <td>112053</td>\n",
       "      <td>30.0000</td>\n",
       "      <td>B42</td>\n",
       "      <td>S</td>\n",
       "    </tr>\n",
       "    <tr>\n",
       "      <th>888</th>\n",
       "      <td>889</td>\n",
       "      <td>0</td>\n",
       "      <td>3</td>\n",
       "      <td>Johnston, Miss. Catherine Helen \"Carrie\"</td>\n",
       "      <td>female</td>\n",
       "      <td>...</td>\n",
       "      <td>2</td>\n",
       "      <td>W./C. 6607</td>\n",
       "      <td>23.4500</td>\n",
       "      <td>NaN</td>\n",
       "      <td>S</td>\n",
       "    </tr>\n",
       "    <tr>\n",
       "      <th>889</th>\n",
       "      <td>890</td>\n",
       "      <td>1</td>\n",
       "      <td>1</td>\n",
       "      <td>Behr, Mr. Karl Howell</td>\n",
       "      <td>male</td>\n",
       "      <td>...</td>\n",
       "      <td>0</td>\n",
       "      <td>111369</td>\n",
       "      <td>30.0000</td>\n",
       "      <td>C148</td>\n",
       "      <td>C</td>\n",
       "    </tr>\n",
       "    <tr>\n",
       "      <th>890</th>\n",
       "      <td>891</td>\n",
       "      <td>0</td>\n",
       "      <td>3</td>\n",
       "      <td>Dooley, Mr. Patrick</td>\n",
       "      <td>male</td>\n",
       "      <td>...</td>\n",
       "      <td>0</td>\n",
       "      <td>370376</td>\n",
       "      <td>7.7500</td>\n",
       "      <td>NaN</td>\n",
       "      <td>Q</td>\n",
       "    </tr>\n",
       "  </tbody>\n",
       "</table>\n",
       "<p>891 rows × 12 columns</p>\n",
       "</div>"
      ],
      "text/plain": [
       "     PassengerId  Survived  Pclass  \\\n",
       "0              1         0       3   \n",
       "1              2         1       1   \n",
       "2              3         1       3   \n",
       "3              4         1       1   \n",
       "4              5         0       3   \n",
       "..           ...       ...     ...   \n",
       "886          887         0       2   \n",
       "887          888         1       1   \n",
       "888          889         0       3   \n",
       "889          890         1       1   \n",
       "890          891         0       3   \n",
       "\n",
       "                                                  Name     Sex  ...  Parch  \\\n",
       "0                              Braund, Mr. Owen Harris    male  ...      0   \n",
       "1    Cumings, Mrs. John Bradley (Florence Briggs Th...  female  ...      0   \n",
       "2                               Heikkinen, Miss. Laina  female  ...      0   \n",
       "3         Futrelle, Mrs. Jacques Heath (Lily May Peel)  female  ...      0   \n",
       "4                             Allen, Mr. William Henry    male  ...      0   \n",
       "..                                                 ...     ...  ...    ...   \n",
       "886                              Montvila, Rev. Juozas    male  ...      0   \n",
       "887                       Graham, Miss. Margaret Edith  female  ...      0   \n",
       "888           Johnston, Miss. Catherine Helen \"Carrie\"  female  ...      2   \n",
       "889                              Behr, Mr. Karl Howell    male  ...      0   \n",
       "890                                Dooley, Mr. Patrick    male  ...      0   \n",
       "\n",
       "               Ticket     Fare Cabin  Embarked  \n",
       "0           A/5 21171   7.2500   NaN         S  \n",
       "1            PC 17599  71.2833   C85         C  \n",
       "2    STON/O2. 3101282   7.9250   NaN         S  \n",
       "3              113803  53.1000  C123         S  \n",
       "4              373450   8.0500   NaN         S  \n",
       "..                ...      ...   ...       ...  \n",
       "886            211536  13.0000   NaN         S  \n",
       "887            112053  30.0000   B42         S  \n",
       "888        W./C. 6607  23.4500   NaN         S  \n",
       "889            111369  30.0000  C148         C  \n",
       "890            370376   7.7500   NaN         Q  \n",
       "\n",
       "[891 rows x 12 columns]"
      ]
     },
     "execution_count": 58,
     "metadata": {},
     "output_type": "execute_result"
    }
   ],
   "source": [
    "df"
   ]
  },
  {
   "cell_type": "code",
   "execution_count": 59,
   "id": "78b3b5f3-4195-425e-99b2-7324c30e7191",
   "metadata": {},
   "outputs": [],
   "source": [
    "pd.set_option(\"display.max_rows\",20)"
   ]
  },
  {
   "cell_type": "code",
   "execution_count": 60,
   "id": "6d53818b-c89f-4eaa-9d94-70e9c1383cb8",
   "metadata": {},
   "outputs": [
    {
     "data": {
      "text/html": [
       "<div>\n",
       "<style scoped>\n",
       "    .dataframe tbody tr th:only-of-type {\n",
       "        vertical-align: middle;\n",
       "    }\n",
       "\n",
       "    .dataframe tbody tr th {\n",
       "        vertical-align: top;\n",
       "    }\n",
       "\n",
       "    .dataframe thead th {\n",
       "        text-align: right;\n",
       "    }\n",
       "</style>\n",
       "<table border=\"1\" class=\"dataframe\">\n",
       "  <thead>\n",
       "    <tr style=\"text-align: right;\">\n",
       "      <th></th>\n",
       "      <th>PassengerId</th>\n",
       "      <th>Survived</th>\n",
       "      <th>Pclass</th>\n",
       "      <th>Name</th>\n",
       "      <th>Sex</th>\n",
       "      <th>...</th>\n",
       "      <th>Parch</th>\n",
       "      <th>Ticket</th>\n",
       "      <th>Fare</th>\n",
       "      <th>Cabin</th>\n",
       "      <th>Embarked</th>\n",
       "    </tr>\n",
       "  </thead>\n",
       "  <tbody>\n",
       "    <tr>\n",
       "      <th>0</th>\n",
       "      <td>1</td>\n",
       "      <td>0</td>\n",
       "      <td>3</td>\n",
       "      <td>Braund, Mr. Owen Harris</td>\n",
       "      <td>male</td>\n",
       "      <td>...</td>\n",
       "      <td>0</td>\n",
       "      <td>A/5 21171</td>\n",
       "      <td>7.2500</td>\n",
       "      <td>NaN</td>\n",
       "      <td>S</td>\n",
       "    </tr>\n",
       "    <tr>\n",
       "      <th>1</th>\n",
       "      <td>2</td>\n",
       "      <td>1</td>\n",
       "      <td>1</td>\n",
       "      <td>Cumings, Mrs. John Bradley (Florence Briggs Th...</td>\n",
       "      <td>female</td>\n",
       "      <td>...</td>\n",
       "      <td>0</td>\n",
       "      <td>PC 17599</td>\n",
       "      <td>71.2833</td>\n",
       "      <td>C85</td>\n",
       "      <td>C</td>\n",
       "    </tr>\n",
       "    <tr>\n",
       "      <th>2</th>\n",
       "      <td>3</td>\n",
       "      <td>1</td>\n",
       "      <td>3</td>\n",
       "      <td>Heikkinen, Miss. Laina</td>\n",
       "      <td>female</td>\n",
       "      <td>...</td>\n",
       "      <td>0</td>\n",
       "      <td>STON/O2. 3101282</td>\n",
       "      <td>7.9250</td>\n",
       "      <td>NaN</td>\n",
       "      <td>S</td>\n",
       "    </tr>\n",
       "    <tr>\n",
       "      <th>3</th>\n",
       "      <td>4</td>\n",
       "      <td>1</td>\n",
       "      <td>1</td>\n",
       "      <td>Futrelle, Mrs. Jacques Heath (Lily May Peel)</td>\n",
       "      <td>female</td>\n",
       "      <td>...</td>\n",
       "      <td>0</td>\n",
       "      <td>113803</td>\n",
       "      <td>53.1000</td>\n",
       "      <td>C123</td>\n",
       "      <td>S</td>\n",
       "    </tr>\n",
       "    <tr>\n",
       "      <th>4</th>\n",
       "      <td>5</td>\n",
       "      <td>0</td>\n",
       "      <td>3</td>\n",
       "      <td>Allen, Mr. William Henry</td>\n",
       "      <td>male</td>\n",
       "      <td>...</td>\n",
       "      <td>0</td>\n",
       "      <td>373450</td>\n",
       "      <td>8.0500</td>\n",
       "      <td>NaN</td>\n",
       "      <td>S</td>\n",
       "    </tr>\n",
       "    <tr>\n",
       "      <th>...</th>\n",
       "      <td>...</td>\n",
       "      <td>...</td>\n",
       "      <td>...</td>\n",
       "      <td>...</td>\n",
       "      <td>...</td>\n",
       "      <td>...</td>\n",
       "      <td>...</td>\n",
       "      <td>...</td>\n",
       "      <td>...</td>\n",
       "      <td>...</td>\n",
       "      <td>...</td>\n",
       "    </tr>\n",
       "    <tr>\n",
       "      <th>886</th>\n",
       "      <td>887</td>\n",
       "      <td>0</td>\n",
       "      <td>2</td>\n",
       "      <td>Montvila, Rev. Juozas</td>\n",
       "      <td>male</td>\n",
       "      <td>...</td>\n",
       "      <td>0</td>\n",
       "      <td>211536</td>\n",
       "      <td>13.0000</td>\n",
       "      <td>NaN</td>\n",
       "      <td>S</td>\n",
       "    </tr>\n",
       "    <tr>\n",
       "      <th>887</th>\n",
       "      <td>888</td>\n",
       "      <td>1</td>\n",
       "      <td>1</td>\n",
       "      <td>Graham, Miss. Margaret Edith</td>\n",
       "      <td>female</td>\n",
       "      <td>...</td>\n",
       "      <td>0</td>\n",
       "      <td>112053</td>\n",
       "      <td>30.0000</td>\n",
       "      <td>B42</td>\n",
       "      <td>S</td>\n",
       "    </tr>\n",
       "    <tr>\n",
       "      <th>888</th>\n",
       "      <td>889</td>\n",
       "      <td>0</td>\n",
       "      <td>3</td>\n",
       "      <td>Johnston, Miss. Catherine Helen \"Carrie\"</td>\n",
       "      <td>female</td>\n",
       "      <td>...</td>\n",
       "      <td>2</td>\n",
       "      <td>W./C. 6607</td>\n",
       "      <td>23.4500</td>\n",
       "      <td>NaN</td>\n",
       "      <td>S</td>\n",
       "    </tr>\n",
       "    <tr>\n",
       "      <th>889</th>\n",
       "      <td>890</td>\n",
       "      <td>1</td>\n",
       "      <td>1</td>\n",
       "      <td>Behr, Mr. Karl Howell</td>\n",
       "      <td>male</td>\n",
       "      <td>...</td>\n",
       "      <td>0</td>\n",
       "      <td>111369</td>\n",
       "      <td>30.0000</td>\n",
       "      <td>C148</td>\n",
       "      <td>C</td>\n",
       "    </tr>\n",
       "    <tr>\n",
       "      <th>890</th>\n",
       "      <td>891</td>\n",
       "      <td>0</td>\n",
       "      <td>3</td>\n",
       "      <td>Dooley, Mr. Patrick</td>\n",
       "      <td>male</td>\n",
       "      <td>...</td>\n",
       "      <td>0</td>\n",
       "      <td>370376</td>\n",
       "      <td>7.7500</td>\n",
       "      <td>NaN</td>\n",
       "      <td>Q</td>\n",
       "    </tr>\n",
       "  </tbody>\n",
       "</table>\n",
       "<p>891 rows × 12 columns</p>\n",
       "</div>"
      ],
      "text/plain": [
       "     PassengerId  Survived  Pclass  \\\n",
       "0              1         0       3   \n",
       "1              2         1       1   \n",
       "2              3         1       3   \n",
       "3              4         1       1   \n",
       "4              5         0       3   \n",
       "..           ...       ...     ...   \n",
       "886          887         0       2   \n",
       "887          888         1       1   \n",
       "888          889         0       3   \n",
       "889          890         1       1   \n",
       "890          891         0       3   \n",
       "\n",
       "                                                  Name     Sex  ...  Parch  \\\n",
       "0                              Braund, Mr. Owen Harris    male  ...      0   \n",
       "1    Cumings, Mrs. John Bradley (Florence Briggs Th...  female  ...      0   \n",
       "2                               Heikkinen, Miss. Laina  female  ...      0   \n",
       "3         Futrelle, Mrs. Jacques Heath (Lily May Peel)  female  ...      0   \n",
       "4                             Allen, Mr. William Henry    male  ...      0   \n",
       "..                                                 ...     ...  ...    ...   \n",
       "886                              Montvila, Rev. Juozas    male  ...      0   \n",
       "887                       Graham, Miss. Margaret Edith  female  ...      0   \n",
       "888           Johnston, Miss. Catherine Helen \"Carrie\"  female  ...      2   \n",
       "889                              Behr, Mr. Karl Howell    male  ...      0   \n",
       "890                                Dooley, Mr. Patrick    male  ...      0   \n",
       "\n",
       "               Ticket     Fare Cabin  Embarked  \n",
       "0           A/5 21171   7.2500   NaN         S  \n",
       "1            PC 17599  71.2833   C85         C  \n",
       "2    STON/O2. 3101282   7.9250   NaN         S  \n",
       "3              113803  53.1000  C123         S  \n",
       "4              373450   8.0500   NaN         S  \n",
       "..                ...      ...   ...       ...  \n",
       "886            211536  13.0000   NaN         S  \n",
       "887            112053  30.0000   B42         S  \n",
       "888        W./C. 6607  23.4500   NaN         S  \n",
       "889            111369  30.0000  C148         C  \n",
       "890            370376   7.7500   NaN         Q  \n",
       "\n",
       "[891 rows x 12 columns]"
      ]
     },
     "execution_count": 60,
     "metadata": {},
     "output_type": "execute_result"
    }
   ],
   "source": [
    "df"
   ]
  },
  {
   "cell_type": "code",
   "execution_count": 61,
   "id": "5d752971-b7af-4eb9-a7d6-c3b410c1b5db",
   "metadata": {},
   "outputs": [],
   "source": [
    "pd.set_option(\"display.max_columns\",10)"
   ]
  },
  {
   "cell_type": "code",
   "execution_count": 62,
   "id": "69768833-d836-420a-acad-3745a861ff47",
   "metadata": {},
   "outputs": [
    {
     "data": {
      "text/html": [
       "<div>\n",
       "<style scoped>\n",
       "    .dataframe tbody tr th:only-of-type {\n",
       "        vertical-align: middle;\n",
       "    }\n",
       "\n",
       "    .dataframe tbody tr th {\n",
       "        vertical-align: top;\n",
       "    }\n",
       "\n",
       "    .dataframe thead th {\n",
       "        text-align: right;\n",
       "    }\n",
       "</style>\n",
       "<table border=\"1\" class=\"dataframe\">\n",
       "  <thead>\n",
       "    <tr style=\"text-align: right;\">\n",
       "      <th></th>\n",
       "      <th>PassengerId</th>\n",
       "      <th>Survived</th>\n",
       "      <th>Pclass</th>\n",
       "      <th>Name</th>\n",
       "      <th>Sex</th>\n",
       "      <th>...</th>\n",
       "      <th>Parch</th>\n",
       "      <th>Ticket</th>\n",
       "      <th>Fare</th>\n",
       "      <th>Cabin</th>\n",
       "      <th>Embarked</th>\n",
       "    </tr>\n",
       "  </thead>\n",
       "  <tbody>\n",
       "    <tr>\n",
       "      <th>0</th>\n",
       "      <td>1</td>\n",
       "      <td>0</td>\n",
       "      <td>3</td>\n",
       "      <td>Braund, Mr. Owen Harris</td>\n",
       "      <td>male</td>\n",
       "      <td>...</td>\n",
       "      <td>0</td>\n",
       "      <td>A/5 21171</td>\n",
       "      <td>7.2500</td>\n",
       "      <td>NaN</td>\n",
       "      <td>S</td>\n",
       "    </tr>\n",
       "    <tr>\n",
       "      <th>1</th>\n",
       "      <td>2</td>\n",
       "      <td>1</td>\n",
       "      <td>1</td>\n",
       "      <td>Cumings, Mrs. John Bradley (Florence Briggs Th...</td>\n",
       "      <td>female</td>\n",
       "      <td>...</td>\n",
       "      <td>0</td>\n",
       "      <td>PC 17599</td>\n",
       "      <td>71.2833</td>\n",
       "      <td>C85</td>\n",
       "      <td>C</td>\n",
       "    </tr>\n",
       "    <tr>\n",
       "      <th>2</th>\n",
       "      <td>3</td>\n",
       "      <td>1</td>\n",
       "      <td>3</td>\n",
       "      <td>Heikkinen, Miss. Laina</td>\n",
       "      <td>female</td>\n",
       "      <td>...</td>\n",
       "      <td>0</td>\n",
       "      <td>STON/O2. 3101282</td>\n",
       "      <td>7.9250</td>\n",
       "      <td>NaN</td>\n",
       "      <td>S</td>\n",
       "    </tr>\n",
       "    <tr>\n",
       "      <th>3</th>\n",
       "      <td>4</td>\n",
       "      <td>1</td>\n",
       "      <td>1</td>\n",
       "      <td>Futrelle, Mrs. Jacques Heath (Lily May Peel)</td>\n",
       "      <td>female</td>\n",
       "      <td>...</td>\n",
       "      <td>0</td>\n",
       "      <td>113803</td>\n",
       "      <td>53.1000</td>\n",
       "      <td>C123</td>\n",
       "      <td>S</td>\n",
       "    </tr>\n",
       "    <tr>\n",
       "      <th>4</th>\n",
       "      <td>5</td>\n",
       "      <td>0</td>\n",
       "      <td>3</td>\n",
       "      <td>Allen, Mr. William Henry</td>\n",
       "      <td>male</td>\n",
       "      <td>...</td>\n",
       "      <td>0</td>\n",
       "      <td>373450</td>\n",
       "      <td>8.0500</td>\n",
       "      <td>NaN</td>\n",
       "      <td>S</td>\n",
       "    </tr>\n",
       "    <tr>\n",
       "      <th>...</th>\n",
       "      <td>...</td>\n",
       "      <td>...</td>\n",
       "      <td>...</td>\n",
       "      <td>...</td>\n",
       "      <td>...</td>\n",
       "      <td>...</td>\n",
       "      <td>...</td>\n",
       "      <td>...</td>\n",
       "      <td>...</td>\n",
       "      <td>...</td>\n",
       "      <td>...</td>\n",
       "    </tr>\n",
       "    <tr>\n",
       "      <th>886</th>\n",
       "      <td>887</td>\n",
       "      <td>0</td>\n",
       "      <td>2</td>\n",
       "      <td>Montvila, Rev. Juozas</td>\n",
       "      <td>male</td>\n",
       "      <td>...</td>\n",
       "      <td>0</td>\n",
       "      <td>211536</td>\n",
       "      <td>13.0000</td>\n",
       "      <td>NaN</td>\n",
       "      <td>S</td>\n",
       "    </tr>\n",
       "    <tr>\n",
       "      <th>887</th>\n",
       "      <td>888</td>\n",
       "      <td>1</td>\n",
       "      <td>1</td>\n",
       "      <td>Graham, Miss. Margaret Edith</td>\n",
       "      <td>female</td>\n",
       "      <td>...</td>\n",
       "      <td>0</td>\n",
       "      <td>112053</td>\n",
       "      <td>30.0000</td>\n",
       "      <td>B42</td>\n",
       "      <td>S</td>\n",
       "    </tr>\n",
       "    <tr>\n",
       "      <th>888</th>\n",
       "      <td>889</td>\n",
       "      <td>0</td>\n",
       "      <td>3</td>\n",
       "      <td>Johnston, Miss. Catherine Helen \"Carrie\"</td>\n",
       "      <td>female</td>\n",
       "      <td>...</td>\n",
       "      <td>2</td>\n",
       "      <td>W./C. 6607</td>\n",
       "      <td>23.4500</td>\n",
       "      <td>NaN</td>\n",
       "      <td>S</td>\n",
       "    </tr>\n",
       "    <tr>\n",
       "      <th>889</th>\n",
       "      <td>890</td>\n",
       "      <td>1</td>\n",
       "      <td>1</td>\n",
       "      <td>Behr, Mr. Karl Howell</td>\n",
       "      <td>male</td>\n",
       "      <td>...</td>\n",
       "      <td>0</td>\n",
       "      <td>111369</td>\n",
       "      <td>30.0000</td>\n",
       "      <td>C148</td>\n",
       "      <td>C</td>\n",
       "    </tr>\n",
       "    <tr>\n",
       "      <th>890</th>\n",
       "      <td>891</td>\n",
       "      <td>0</td>\n",
       "      <td>3</td>\n",
       "      <td>Dooley, Mr. Patrick</td>\n",
       "      <td>male</td>\n",
       "      <td>...</td>\n",
       "      <td>0</td>\n",
       "      <td>370376</td>\n",
       "      <td>7.7500</td>\n",
       "      <td>NaN</td>\n",
       "      <td>Q</td>\n",
       "    </tr>\n",
       "  </tbody>\n",
       "</table>\n",
       "<p>891 rows × 12 columns</p>\n",
       "</div>"
      ],
      "text/plain": [
       "     PassengerId  Survived  Pclass  \\\n",
       "0              1         0       3   \n",
       "1              2         1       1   \n",
       "2              3         1       3   \n",
       "3              4         1       1   \n",
       "4              5         0       3   \n",
       "..           ...       ...     ...   \n",
       "886          887         0       2   \n",
       "887          888         1       1   \n",
       "888          889         0       3   \n",
       "889          890         1       1   \n",
       "890          891         0       3   \n",
       "\n",
       "                                                  Name     Sex  ...  Parch  \\\n",
       "0                              Braund, Mr. Owen Harris    male  ...      0   \n",
       "1    Cumings, Mrs. John Bradley (Florence Briggs Th...  female  ...      0   \n",
       "2                               Heikkinen, Miss. Laina  female  ...      0   \n",
       "3         Futrelle, Mrs. Jacques Heath (Lily May Peel)  female  ...      0   \n",
       "4                             Allen, Mr. William Henry    male  ...      0   \n",
       "..                                                 ...     ...  ...    ...   \n",
       "886                              Montvila, Rev. Juozas    male  ...      0   \n",
       "887                       Graham, Miss. Margaret Edith  female  ...      0   \n",
       "888           Johnston, Miss. Catherine Helen \"Carrie\"  female  ...      2   \n",
       "889                              Behr, Mr. Karl Howell    male  ...      0   \n",
       "890                                Dooley, Mr. Patrick    male  ...      0   \n",
       "\n",
       "               Ticket     Fare Cabin  Embarked  \n",
       "0           A/5 21171   7.2500   NaN         S  \n",
       "1            PC 17599  71.2833   C85         C  \n",
       "2    STON/O2. 3101282   7.9250   NaN         S  \n",
       "3              113803  53.1000  C123         S  \n",
       "4              373450   8.0500   NaN         S  \n",
       "..                ...      ...   ...       ...  \n",
       "886            211536  13.0000   NaN         S  \n",
       "887            112053  30.0000   B42         S  \n",
       "888        W./C. 6607  23.4500   NaN         S  \n",
       "889            111369  30.0000  C148         C  \n",
       "890            370376   7.7500   NaN         Q  \n",
       "\n",
       "[891 rows x 12 columns]"
      ]
     },
     "execution_count": 62,
     "metadata": {},
     "output_type": "execute_result"
    }
   ],
   "source": [
    "df"
   ]
  },
  {
   "cell_type": "markdown",
   "id": "5aef294c-0778-4969-b9e9-3259da029f4e",
   "metadata": {},
   "source": [
    "## Supress Warnings"
   ]
  },
  {
   "cell_type": "code",
   "execution_count": 63,
   "id": "ba64fdad-c301-4820-a253-22db06ce22bd",
   "metadata": {},
   "outputs": [],
   "source": [
    "import warnings\n",
    "warnings.filterwarnings('ignore')"
   ]
  },
  {
   "cell_type": "markdown",
   "id": "ec485807-e324-42c6-9075-b3abb1283ecb",
   "metadata": {},
   "source": [
    "## Print all variables"
   ]
  },
  {
   "cell_type": "code",
   "execution_count": 64,
   "id": "facb5037-7db4-4b3b-bf58-7e7cff0aa145",
   "metadata": {},
   "outputs": [],
   "source": [
    "from IPython.core.interactiveshell import InteractiveShell\n",
    "InteractiveShell.ast_node_interactivity = \"all\""
   ]
  },
  {
   "cell_type": "code",
   "execution_count": 65,
   "id": "71067126-4a32-40ee-86a4-1bb6fb25a620",
   "metadata": {},
   "outputs": [
    {
     "data": {
      "text/html": [
       "<div>\n",
       "<style scoped>\n",
       "    .dataframe tbody tr th:only-of-type {\n",
       "        vertical-align: middle;\n",
       "    }\n",
       "\n",
       "    .dataframe tbody tr th {\n",
       "        vertical-align: top;\n",
       "    }\n",
       "\n",
       "    .dataframe thead th {\n",
       "        text-align: right;\n",
       "    }\n",
       "</style>\n",
       "<table border=\"1\" class=\"dataframe\">\n",
       "  <thead>\n",
       "    <tr style=\"text-align: right;\">\n",
       "      <th></th>\n",
       "      <th>PassengerId</th>\n",
       "      <th>Survived</th>\n",
       "      <th>Pclass</th>\n",
       "      <th>Age</th>\n",
       "      <th>SibSp</th>\n",
       "      <th>Parch</th>\n",
       "      <th>Fare</th>\n",
       "    </tr>\n",
       "  </thead>\n",
       "  <tbody>\n",
       "    <tr>\n",
       "      <th>count</th>\n",
       "      <td>891.000000</td>\n",
       "      <td>891.000000</td>\n",
       "      <td>891.000000</td>\n",
       "      <td>714.000000</td>\n",
       "      <td>891.000000</td>\n",
       "      <td>891.000000</td>\n",
       "      <td>891.000000</td>\n",
       "    </tr>\n",
       "    <tr>\n",
       "      <th>mean</th>\n",
       "      <td>446.000000</td>\n",
       "      <td>0.383838</td>\n",
       "      <td>2.308642</td>\n",
       "      <td>29.699118</td>\n",
       "      <td>0.523008</td>\n",
       "      <td>0.381594</td>\n",
       "      <td>32.204208</td>\n",
       "    </tr>\n",
       "    <tr>\n",
       "      <th>std</th>\n",
       "      <td>257.353842</td>\n",
       "      <td>0.486592</td>\n",
       "      <td>0.836071</td>\n",
       "      <td>14.526497</td>\n",
       "      <td>1.102743</td>\n",
       "      <td>0.806057</td>\n",
       "      <td>49.693429</td>\n",
       "    </tr>\n",
       "    <tr>\n",
       "      <th>min</th>\n",
       "      <td>1.000000</td>\n",
       "      <td>0.000000</td>\n",
       "      <td>1.000000</td>\n",
       "      <td>0.420000</td>\n",
       "      <td>0.000000</td>\n",
       "      <td>0.000000</td>\n",
       "      <td>0.000000</td>\n",
       "    </tr>\n",
       "    <tr>\n",
       "      <th>25%</th>\n",
       "      <td>223.500000</td>\n",
       "      <td>0.000000</td>\n",
       "      <td>2.000000</td>\n",
       "      <td>20.125000</td>\n",
       "      <td>0.000000</td>\n",
       "      <td>0.000000</td>\n",
       "      <td>7.910400</td>\n",
       "    </tr>\n",
       "    <tr>\n",
       "      <th>50%</th>\n",
       "      <td>446.000000</td>\n",
       "      <td>0.000000</td>\n",
       "      <td>3.000000</td>\n",
       "      <td>28.000000</td>\n",
       "      <td>0.000000</td>\n",
       "      <td>0.000000</td>\n",
       "      <td>14.454200</td>\n",
       "    </tr>\n",
       "    <tr>\n",
       "      <th>75%</th>\n",
       "      <td>668.500000</td>\n",
       "      <td>1.000000</td>\n",
       "      <td>3.000000</td>\n",
       "      <td>38.000000</td>\n",
       "      <td>1.000000</td>\n",
       "      <td>0.000000</td>\n",
       "      <td>31.000000</td>\n",
       "    </tr>\n",
       "    <tr>\n",
       "      <th>max</th>\n",
       "      <td>891.000000</td>\n",
       "      <td>1.000000</td>\n",
       "      <td>3.000000</td>\n",
       "      <td>80.000000</td>\n",
       "      <td>8.000000</td>\n",
       "      <td>6.000000</td>\n",
       "      <td>512.329200</td>\n",
       "    </tr>\n",
       "  </tbody>\n",
       "</table>\n",
       "</div>"
      ],
      "text/plain": [
       "       PassengerId    Survived      Pclass         Age       SibSp  \\\n",
       "count   891.000000  891.000000  891.000000  714.000000  891.000000   \n",
       "mean    446.000000    0.383838    2.308642   29.699118    0.523008   \n",
       "std     257.353842    0.486592    0.836071   14.526497    1.102743   \n",
       "min       1.000000    0.000000    1.000000    0.420000    0.000000   \n",
       "25%     223.500000    0.000000    2.000000   20.125000    0.000000   \n",
       "50%     446.000000    0.000000    3.000000   28.000000    0.000000   \n",
       "75%     668.500000    1.000000    3.000000   38.000000    1.000000   \n",
       "max     891.000000    1.000000    3.000000   80.000000    8.000000   \n",
       "\n",
       "            Parch        Fare  \n",
       "count  891.000000  891.000000  \n",
       "mean     0.381594   32.204208  \n",
       "std      0.806057   49.693429  \n",
       "min      0.000000    0.000000  \n",
       "25%      0.000000    7.910400  \n",
       "50%      0.000000   14.454200  \n",
       "75%      0.000000   31.000000  \n",
       "max      6.000000  512.329200  "
      ]
     },
     "execution_count": 65,
     "metadata": {},
     "output_type": "execute_result"
    },
    {
     "name": "stdout",
     "output_type": "stream",
     "text": [
      "<class 'pandas.core.frame.DataFrame'>\n",
      "RangeIndex: 891 entries, 0 to 890\n",
      "Data columns (total 12 columns):\n",
      " #   Column       Non-Null Count  Dtype  \n",
      "---  ------       --------------  -----  \n",
      " 0   PassengerId  891 non-null    int64  \n",
      " 1   Survived     891 non-null    int64  \n",
      " 2   Pclass       891 non-null    int64  \n",
      " 3   Name         891 non-null    object \n",
      " 4   Sex          891 non-null    object \n",
      " 5   Age          714 non-null    float64\n",
      " 6   SibSp        891 non-null    int64  \n",
      " 7   Parch        891 non-null    int64  \n",
      " 8   Ticket       891 non-null    object \n",
      " 9   Fare         891 non-null    float64\n",
      " 10  Cabin        204 non-null    object \n",
      " 11  Embarked     889 non-null    object \n",
      "dtypes: float64(2), int64(5), object(5)\n",
      "memory usage: 83.7+ KB\n"
     ]
    },
    {
     "data": {
      "text/plain": [
       "2"
      ]
     },
     "execution_count": 65,
     "metadata": {},
     "output_type": "execute_result"
    }
   ],
   "source": [
    "df.describe()\n",
    "df.info()\n",
    "a=2\n",
    "a"
   ]
  },
  {
   "cell_type": "markdown",
   "id": "b246e313-897b-43d3-8878-24bb2d57c8e1",
   "metadata": {},
   "source": [
    "## Print output of any other cell"
   ]
  },
  {
   "cell_type": "code",
   "execution_count": 66,
   "id": "df8d9030-06e1-47df-94f4-20437cb5a4a7",
   "metadata": {},
   "outputs": [
    {
     "data": {
      "text/html": [
       "<div>\n",
       "<style scoped>\n",
       "    .dataframe tbody tr th:only-of-type {\n",
       "        vertical-align: middle;\n",
       "    }\n",
       "\n",
       "    .dataframe tbody tr th {\n",
       "        vertical-align: top;\n",
       "    }\n",
       "\n",
       "    .dataframe thead th {\n",
       "        text-align: right;\n",
       "    }\n",
       "</style>\n",
       "<table border=\"1\" class=\"dataframe\">\n",
       "  <thead>\n",
       "    <tr style=\"text-align: right;\">\n",
       "      <th></th>\n",
       "      <th>Age</th>\n",
       "      <th>Pclass</th>\n",
       "      <th>Fare</th>\n",
       "      <th>Survived</th>\n",
       "    </tr>\n",
       "  </thead>\n",
       "  <tbody>\n",
       "    <tr>\n",
       "      <th>0</th>\n",
       "      <td>22.0</td>\n",
       "      <td>3</td>\n",
       "      <td>7.2500</td>\n",
       "      <td>0</td>\n",
       "    </tr>\n",
       "    <tr>\n",
       "      <th>1</th>\n",
       "      <td>38.0</td>\n",
       "      <td>1</td>\n",
       "      <td>71.2833</td>\n",
       "      <td>1</td>\n",
       "    </tr>\n",
       "    <tr>\n",
       "      <th>2</th>\n",
       "      <td>26.0</td>\n",
       "      <td>3</td>\n",
       "      <td>7.9250</td>\n",
       "      <td>1</td>\n",
       "    </tr>\n",
       "    <tr>\n",
       "      <th>3</th>\n",
       "      <td>35.0</td>\n",
       "      <td>1</td>\n",
       "      <td>53.1000</td>\n",
       "      <td>1</td>\n",
       "    </tr>\n",
       "    <tr>\n",
       "      <th>4</th>\n",
       "      <td>35.0</td>\n",
       "      <td>3</td>\n",
       "      <td>8.0500</td>\n",
       "      <td>0</td>\n",
       "    </tr>\n",
       "  </tbody>\n",
       "</table>\n",
       "</div>"
      ],
      "text/plain": [
       "    Age  Pclass     Fare  Survived\n",
       "0  22.0       3   7.2500         0\n",
       "1  38.0       1  71.2833         1\n",
       "2  26.0       3   7.9250         1\n",
       "3  35.0       1  53.1000         1\n",
       "4  35.0       3   8.0500         0"
      ]
     },
     "execution_count": 66,
     "metadata": {},
     "output_type": "execute_result"
    }
   ],
   "source": [
    "Out[1]"
   ]
  },
  {
   "cell_type": "markdown",
   "id": "ac536a24-b353-4350-861f-89efb9f371a1",
   "metadata": {},
   "source": [
    "## Close large output"
   ]
  },
  {
   "cell_type": "code",
   "execution_count": 67,
   "id": "43199280-0b69-463c-ba19-dfe96cb4f53d",
   "metadata": {
    "scrolled": true
   },
   "outputs": [
    {
     "data": {
      "text/plain": [
       "{1:     Age  Pclass     Fare  Survived\n",
       " 0  22.0       3   7.2500         0\n",
       " 1  38.0       1  71.2833         1\n",
       " 2  26.0       3   7.9250         1\n",
       " 3  35.0       1  53.1000         1\n",
       " 4  35.0       3   8.0500         0,\n",
       " 7:      PassengerId  Survived  Pclass  \\\n",
       " 0              1         0       3   \n",
       " 1              2         1       1   \n",
       " 2              3         1       3   \n",
       " 3              4         1       1   \n",
       " 4              5         0       3   \n",
       " ..           ...       ...     ...   \n",
       " 886          887         0       2   \n",
       " 887          888         1       1   \n",
       " 888          889         0       3   \n",
       " 889          890         1       1   \n",
       " 890          891         0       3   \n",
       " \n",
       "                                                   Name     Sex  ...  Parch  \\\n",
       " 0                              Braund, Mr. Owen Harris    male  ...      0   \n",
       " 1    Cumings, Mrs. John Bradley (Florence Briggs Th...  female  ...      0   \n",
       " 2                               Heikkinen, Miss. Laina  female  ...      0   \n",
       " 3         Futrelle, Mrs. Jacques Heath (Lily May Peel)  female  ...      0   \n",
       " 4                             Allen, Mr. William Henry    male  ...      0   \n",
       " ..                                                 ...     ...  ...    ...   \n",
       " 886                              Montvila, Rev. Juozas    male  ...      0   \n",
       " 887                       Graham, Miss. Margaret Edith  female  ...      0   \n",
       " 888           Johnston, Miss. Catherine Helen \"Carrie\"  female  ...      2   \n",
       " 889                              Behr, Mr. Karl Howell    male  ...      0   \n",
       " 890                                Dooley, Mr. Patrick    male  ...      0   \n",
       " \n",
       "                Ticket     Fare Cabin  Embarked  \n",
       " 0           A/5 21171   7.2500   NaN         S  \n",
       " 1            PC 17599  71.2833   C85         C  \n",
       " 2    STON/O2. 3101282   7.9250   NaN         S  \n",
       " 3              113803  53.1000  C123         S  \n",
       " 4              373450   8.0500   NaN         S  \n",
       " ..                ...      ...   ...       ...  \n",
       " 886            211536  13.0000   NaN         S  \n",
       " 887            112053  30.0000   B42         S  \n",
       " 888        W./C. 6607  23.4500   NaN         S  \n",
       " 889            111369  30.0000  C148         C  \n",
       " 890            370376   7.7500   NaN         Q  \n",
       " \n",
       " [891 rows x 12 columns],\n",
       " 9:      PassengerId  Survived  Pclass  \\\n",
       " 0              1         0       3   \n",
       " 1              2         1       1   \n",
       " 2              3         1       3   \n",
       " 3              4         1       1   \n",
       " 4              5         0       3   \n",
       " ..           ...       ...     ...   \n",
       " 886          887         0       2   \n",
       " 887          888         1       1   \n",
       " 888          889         0       3   \n",
       " 889          890         1       1   \n",
       " 890          891         0       3   \n",
       " \n",
       "                                                   Name     Sex  ...  Parch  \\\n",
       " 0                              Braund, Mr. Owen Harris    male  ...      0   \n",
       " 1    Cumings, Mrs. John Bradley (Florence Briggs Th...  female  ...      0   \n",
       " 2                               Heikkinen, Miss. Laina  female  ...      0   \n",
       " 3         Futrelle, Mrs. Jacques Heath (Lily May Peel)  female  ...      0   \n",
       " 4                             Allen, Mr. William Henry    male  ...      0   \n",
       " ..                                                 ...     ...  ...    ...   \n",
       " 886                              Montvila, Rev. Juozas    male  ...      0   \n",
       " 887                       Graham, Miss. Margaret Edith  female  ...      0   \n",
       " 888           Johnston, Miss. Catherine Helen \"Carrie\"  female  ...      2   \n",
       " 889                              Behr, Mr. Karl Howell    male  ...      0   \n",
       " 890                                Dooley, Mr. Patrick    male  ...      0   \n",
       " \n",
       "                Ticket     Fare Cabin  Embarked  \n",
       " 0           A/5 21171   7.2500   NaN         S  \n",
       " 1            PC 17599  71.2833   C85         C  \n",
       " 2    STON/O2. 3101282   7.9250   NaN         S  \n",
       " 3              113803  53.1000  C123         S  \n",
       " 4              373450   8.0500   NaN         S  \n",
       " ..                ...      ...   ...       ...  \n",
       " 886            211536  13.0000   NaN         S  \n",
       " 887            112053  30.0000   B42         S  \n",
       " 888        W./C. 6607  23.4500   NaN         S  \n",
       " 889            111369  30.0000  C148         C  \n",
       " 890            370376   7.7500   NaN         Q  \n",
       " \n",
       " [891 rows x 12 columns],\n",
       " 11:      PassengerId  Survived  Pclass  \\\n",
       " 0              1         0       3   \n",
       " 1              2         1       1   \n",
       " 2              3         1       3   \n",
       " 3              4         1       1   \n",
       " 4              5         0       3   \n",
       " ..           ...       ...     ...   \n",
       " 886          887         0       2   \n",
       " 887          888         1       1   \n",
       " 888          889         0       3   \n",
       " 889          890         1       1   \n",
       " 890          891         0       3   \n",
       " \n",
       "                                                   Name     Sex  ...  Parch  \\\n",
       " 0                              Braund, Mr. Owen Harris    male  ...      0   \n",
       " 1    Cumings, Mrs. John Bradley (Florence Briggs Th...  female  ...      0   \n",
       " 2                               Heikkinen, Miss. Laina  female  ...      0   \n",
       " 3         Futrelle, Mrs. Jacques Heath (Lily May Peel)  female  ...      0   \n",
       " 4                             Allen, Mr. William Henry    male  ...      0   \n",
       " ..                                                 ...     ...  ...    ...   \n",
       " 886                              Montvila, Rev. Juozas    male  ...      0   \n",
       " 887                       Graham, Miss. Margaret Edith  female  ...      0   \n",
       " 888           Johnston, Miss. Catherine Helen \"Carrie\"  female  ...      2   \n",
       " 889                              Behr, Mr. Karl Howell    male  ...      0   \n",
       " 890                                Dooley, Mr. Patrick    male  ...      0   \n",
       " \n",
       "                Ticket     Fare Cabin  Embarked  \n",
       " 0           A/5 21171   7.2500   NaN         S  \n",
       " 1            PC 17599  71.2833   C85         C  \n",
       " 2    STON/O2. 3101282   7.9250   NaN         S  \n",
       " 3              113803  53.1000  C123         S  \n",
       " 4              373450   8.0500   NaN         S  \n",
       " ..                ...      ...   ...       ...  \n",
       " 886            211536  13.0000   NaN         S  \n",
       " 887            112053  30.0000   B42         S  \n",
       " 888        W./C. 6607  23.4500   NaN         S  \n",
       " 889            111369  30.0000  C148         C  \n",
       " 890            370376   7.7500   NaN         Q  \n",
       " \n",
       " [891 rows x 12 columns],\n",
       " 14: 2,\n",
       " 15:     Age  Pclass     Fare  Survived\n",
       " 0  22.0       3   7.2500         0\n",
       " 1  38.0       1  71.2833         1\n",
       " 2  26.0       3   7.9250         1\n",
       " 3  35.0       1  53.1000         1\n",
       " 4  35.0       3   8.0500         0,\n",
       " 17: [<matplotlib.lines.Line2D at 0x20f6f4695b0>],\n",
       " 19: 49999995000000,\n",
       " 52:     Age  Pclass     Fare  Survived\n",
       " 0  22.0       3   7.2500         0\n",
       " 1  38.0       1  71.2833         1\n",
       " 2  26.0       3   7.9250         1\n",
       " 3  35.0       1  53.1000         1\n",
       " 4  35.0       3   8.0500         0,\n",
       " 58:      PassengerId  Survived  Pclass  \\\n",
       " 0              1         0       3   \n",
       " 1              2         1       1   \n",
       " 2              3         1       3   \n",
       " 3              4         1       1   \n",
       " 4              5         0       3   \n",
       " ..           ...       ...     ...   \n",
       " 886          887         0       2   \n",
       " 887          888         1       1   \n",
       " 888          889         0       3   \n",
       " 889          890         1       1   \n",
       " 890          891         0       3   \n",
       " \n",
       "                                                   Name     Sex  ...  Parch  \\\n",
       " 0                              Braund, Mr. Owen Harris    male  ...      0   \n",
       " 1    Cumings, Mrs. John Bradley (Florence Briggs Th...  female  ...      0   \n",
       " 2                               Heikkinen, Miss. Laina  female  ...      0   \n",
       " 3         Futrelle, Mrs. Jacques Heath (Lily May Peel)  female  ...      0   \n",
       " 4                             Allen, Mr. William Henry    male  ...      0   \n",
       " ..                                                 ...     ...  ...    ...   \n",
       " 886                              Montvila, Rev. Juozas    male  ...      0   \n",
       " 887                       Graham, Miss. Margaret Edith  female  ...      0   \n",
       " 888           Johnston, Miss. Catherine Helen \"Carrie\"  female  ...      2   \n",
       " 889                              Behr, Mr. Karl Howell    male  ...      0   \n",
       " 890                                Dooley, Mr. Patrick    male  ...      0   \n",
       " \n",
       "                Ticket     Fare Cabin  Embarked  \n",
       " 0           A/5 21171   7.2500   NaN         S  \n",
       " 1            PC 17599  71.2833   C85         C  \n",
       " 2    STON/O2. 3101282   7.9250   NaN         S  \n",
       " 3              113803  53.1000  C123         S  \n",
       " 4              373450   8.0500   NaN         S  \n",
       " ..                ...      ...   ...       ...  \n",
       " 886            211536  13.0000   NaN         S  \n",
       " 887            112053  30.0000   B42         S  \n",
       " 888        W./C. 6607  23.4500   NaN         S  \n",
       " 889            111369  30.0000  C148         C  \n",
       " 890            370376   7.7500   NaN         Q  \n",
       " \n",
       " [891 rows x 12 columns],\n",
       " 60:      PassengerId  Survived  Pclass  \\\n",
       " 0              1         0       3   \n",
       " 1              2         1       1   \n",
       " 2              3         1       3   \n",
       " 3              4         1       1   \n",
       " 4              5         0       3   \n",
       " ..           ...       ...     ...   \n",
       " 886          887         0       2   \n",
       " 887          888         1       1   \n",
       " 888          889         0       3   \n",
       " 889          890         1       1   \n",
       " 890          891         0       3   \n",
       " \n",
       "                                                   Name     Sex  ...  Parch  \\\n",
       " 0                              Braund, Mr. Owen Harris    male  ...      0   \n",
       " 1    Cumings, Mrs. John Bradley (Florence Briggs Th...  female  ...      0   \n",
       " 2                               Heikkinen, Miss. Laina  female  ...      0   \n",
       " 3         Futrelle, Mrs. Jacques Heath (Lily May Peel)  female  ...      0   \n",
       " 4                             Allen, Mr. William Henry    male  ...      0   \n",
       " ..                                                 ...     ...  ...    ...   \n",
       " 886                              Montvila, Rev. Juozas    male  ...      0   \n",
       " 887                       Graham, Miss. Margaret Edith  female  ...      0   \n",
       " 888           Johnston, Miss. Catherine Helen \"Carrie\"  female  ...      2   \n",
       " 889                              Behr, Mr. Karl Howell    male  ...      0   \n",
       " 890                                Dooley, Mr. Patrick    male  ...      0   \n",
       " \n",
       "                Ticket     Fare Cabin  Embarked  \n",
       " 0           A/5 21171   7.2500   NaN         S  \n",
       " 1            PC 17599  71.2833   C85         C  \n",
       " 2    STON/O2. 3101282   7.9250   NaN         S  \n",
       " 3              113803  53.1000  C123         S  \n",
       " 4              373450   8.0500   NaN         S  \n",
       " ..                ...      ...   ...       ...  \n",
       " 886            211536  13.0000   NaN         S  \n",
       " 887            112053  30.0000   B42         S  \n",
       " 888        W./C. 6607  23.4500   NaN         S  \n",
       " 889            111369  30.0000  C148         C  \n",
       " 890            370376   7.7500   NaN         Q  \n",
       " \n",
       " [891 rows x 12 columns],\n",
       " 62:      PassengerId  Survived  Pclass  \\\n",
       " 0              1         0       3   \n",
       " 1              2         1       1   \n",
       " 2              3         1       3   \n",
       " 3              4         1       1   \n",
       " 4              5         0       3   \n",
       " ..           ...       ...     ...   \n",
       " 886          887         0       2   \n",
       " 887          888         1       1   \n",
       " 888          889         0       3   \n",
       " 889          890         1       1   \n",
       " 890          891         0       3   \n",
       " \n",
       "                                                   Name     Sex  ...  Parch  \\\n",
       " 0                              Braund, Mr. Owen Harris    male  ...      0   \n",
       " 1    Cumings, Mrs. John Bradley (Florence Briggs Th...  female  ...      0   \n",
       " 2                               Heikkinen, Miss. Laina  female  ...      0   \n",
       " 3         Futrelle, Mrs. Jacques Heath (Lily May Peel)  female  ...      0   \n",
       " 4                             Allen, Mr. William Henry    male  ...      0   \n",
       " ..                                                 ...     ...  ...    ...   \n",
       " 886                              Montvila, Rev. Juozas    male  ...      0   \n",
       " 887                       Graham, Miss. Margaret Edith  female  ...      0   \n",
       " 888           Johnston, Miss. Catherine Helen \"Carrie\"  female  ...      2   \n",
       " 889                              Behr, Mr. Karl Howell    male  ...      0   \n",
       " 890                                Dooley, Mr. Patrick    male  ...      0   \n",
       " \n",
       "                Ticket     Fare Cabin  Embarked  \n",
       " 0           A/5 21171   7.2500   NaN         S  \n",
       " 1            PC 17599  71.2833   C85         C  \n",
       " 2    STON/O2. 3101282   7.9250   NaN         S  \n",
       " 3              113803  53.1000  C123         S  \n",
       " 4              373450   8.0500   NaN         S  \n",
       " ..                ...      ...   ...       ...  \n",
       " 886            211536  13.0000   NaN         S  \n",
       " 887            112053  30.0000   B42         S  \n",
       " 888        W./C. 6607  23.4500   NaN         S  \n",
       " 889            111369  30.0000  C148         C  \n",
       " 890            370376   7.7500   NaN         Q  \n",
       " \n",
       " [891 rows x 12 columns],\n",
       " 65: 2,\n",
       " 66:     Age  Pclass     Fare  Survived\n",
       " 0  22.0       3   7.2500         0\n",
       " 1  38.0       1  71.2833         1\n",
       " 2  26.0       3   7.9250         1\n",
       " 3  35.0       1  53.1000         1\n",
       " 4  35.0       3   8.0500         0}"
      ]
     },
     "execution_count": 67,
     "metadata": {},
     "output_type": "execute_result"
    }
   ],
   "source": [
    "Out"
   ]
  },
  {
   "cell_type": "markdown",
   "id": "88d3f9cd-eb29-4bf3-8c1f-b3725598be52",
   "metadata": {},
   "source": [
    "## Remove extra output"
   ]
  },
  {
   "cell_type": "code",
   "execution_count": 68,
   "id": "09c99c41-56f8-433a-9665-072e13b0a4f1",
   "metadata": {},
   "outputs": [
    {
     "data": {
      "text/plain": [
       "[<matplotlib.lines.Line2D at 0x20f7572e400>]"
      ]
     },
     "execution_count": 68,
     "metadata": {},
     "output_type": "execute_result"
    },
    {
     "data": {
      "image/png": "[encoded data removed]",
      "text/plain": [
       "<Figure size 640x480 with 1 Axes>"
      ]
     },
     "metadata": {},
     "output_type": "display_data"
    }
   ],
   "source": [
    "import matplotlib.pyplot as plt\n",
    "\n",
    "plt.plot([1,2,3],[4,5,6])"
   ]
  },
  {
   "cell_type": "code",
   "execution_count": 69,
   "id": "da221fa4-e5e2-4e11-ac2e-43ef35698311",
   "metadata": {},
   "outputs": [
    {
     "data": {
      "image/png": "[encoded data removed]",
      "text/plain": [
       "<Figure size 640x480 with 1 Axes>"
      ]
     },
     "metadata": {},
     "output_type": "display_data"
    }
   ],
   "source": [
    "plt.plot([1,2,3],[4,5,6]); #no additional information is being shown with ';'"
   ]
  },
  {
   "cell_type": "markdown",
   "id": "bdfe9de4-39e4-4e95-beea-7920402adad4",
   "metadata": {},
   "source": [
    "## Magic Commands"
   ]
  },
  {
   "cell_type": "markdown",
   "id": "ab0bde39-b675-4309-a9a2-246650408277",
   "metadata": {},
   "source": [
    "% is used for line magics. Line magic commands apply only to the rest of the line on which they are used.\n",
    "\n",
    "%% is used for cell magics. Cell magic commands apply to the entire cell in which they are the first line. This means that everything below the %% command (upto the end of the cell) is considered part of the command. Cell magics allow you to write more complex or mulit-linear commands, affecting or transforming the entire cell"
   ]
  },
  {
   "cell_type": "markdown",
   "id": "06866aae-bd26-4e44-806d-f3a9ec0e4e61",
   "metadata": {},
   "source": [
    "## %time"
   ]
  },
  {
   "cell_type": "code",
   "execution_count": 70,
   "id": "31699213-cfc9-436b-8ac7-7071304901fc",
   "metadata": {},
   "outputs": [
    {
     "name": "stdout",
     "output_type": "stream",
     "text": [
      "CPU times: total: 62.5 ms\n",
      "Wall time: 207 ms\n"
     ]
    },
    {
     "data": {
      "text/plain": [
       "49999995000000"
      ]
     },
     "execution_count": 70,
     "metadata": {},
     "output_type": "execute_result"
    }
   ],
   "source": [
    "# Example of using %time for a single line of code\n",
    "%time sum(range(10000000))"
   ]
  },
  {
   "cell_type": "code",
   "execution_count": 71,
   "id": "584c6eed-dc1c-4638-a1e1-706721133f02",
   "metadata": {},
   "outputs": [
    {
     "name": "stdout",
     "output_type": "stream",
     "text": [
      "10000000\n",
      "CPU times: total: 62.5 ms\n",
      "Wall time: 692 ms\n"
     ]
    }
   ],
   "source": [
    "%%time\n",
    "# Example of using %%time for an entire cell\n",
    "total=0\n",
    "for i in range(10000000):\n",
    "    total+=1\n",
    "print(total)"
   ]
  },
  {
   "cell_type": "code",
   "execution_count": 72,
   "id": "b97b848f-3d8d-4564-a176-4294bfda451e",
   "metadata": {},
   "outputs": [
    {
     "name": "stdout",
     "output_type": "stream",
     "text": [
      "196 ms ± 6.7 ms per loop (mean ± std. dev. of 7 runs, 1 loop each)\n"
     ]
    }
   ],
   "source": [
    "%timeit sum(range(10000000))"
   ]
  },
  {
   "cell_type": "markdown",
   "id": "3ba6aeb6-235c-4326-83d6-873f759e9a45",
   "metadata": {},
   "source": [
    "## %run"
   ]
  },
  {
   "cell_type": "code",
   "execution_count": 73,
   "id": "0e0e5004-7f01-40e6-b24e-83d6090c9cfd",
   "metadata": {},
   "outputs": [
    {
     "name": "stdout",
     "output_type": "stream",
     "text": [
      "9\n"
     ]
    }
   ],
   "source": [
    "%run sum.py"
   ]
  },
  {
   "cell_type": "markdown",
   "id": "2fc528ed-5474-420b-b916-ee155f2d8cfb",
   "metadata": {},
   "source": [
    "## %% writefile"
   ]
  },
  {
   "cell_type": "code",
   "execution_count": 74,
   "id": "d89ce0ac-61d1-4321-997f-da9c059b091c",
   "metadata": {},
   "outputs": [
    {
     "name": "stdout",
     "output_type": "stream",
     "text": [
      "Overwriting example.txt\n"
     ]
    }
   ],
   "source": [
    "%%writefile example.txt\n",
    "\n",
    "Hello, this is the first line of the file.\n",
    "And this is the second line."
   ]
  },
  {
   "cell_type": "code",
   "execution_count": 75,
   "id": "f676367b-f3fa-4edc-bc4c-49c0f179bda8",
   "metadata": {},
   "outputs": [
    {
     "name": "stdout",
     "output_type": "stream",
     "text": [
      "Overwriting hello_world.py\n"
     ]
    }
   ],
   "source": [
    "%%writefile hello_world.py\n",
    "def hello_world():\n",
    "    print(\"Hello World!\")\n",
    "if __name__=='__main__':\n",
    "    hello_world()"
   ]
  },
  {
   "cell_type": "code",
   "execution_count": 76,
   "id": "586d4684-1350-4206-b2bd-a61fc42711ef",
   "metadata": {},
   "outputs": [
    {
     "name": "stdout",
     "output_type": "stream",
     "text": [
      "Hello World!\n"
     ]
    }
   ],
   "source": [
    "%run hello_world.py"
   ]
  },
  {
   "cell_type": "markdown",
   "id": "0da661d6-9fc8-480c-a4c9-6b11f88a0ddd",
   "metadata": {},
   "source": [
    "## %%html"
   ]
  },
  {
   "cell_type": "code",
   "execution_count": 77,
   "id": "a6dbd2da-d6e6-4297-9ff5-1531a935acdd",
   "metadata": {},
   "outputs": [
    {
     "data": {
      "text/html": [
       "<div style='color:red;font-size:20px;'>Hello, world!</div>\n"
      ],
      "text/plain": [
       "<IPython.core.display.HTML object>"
      ]
     },
     "metadata": {},
     "output_type": "display_data"
    }
   ],
   "source": [
    "%%html\n",
    "<div style='color:red;font-size:20px;'>Hello, world!</div>"
   ]
  },
  {
   "cell_type": "code",
   "execution_count": 78,
   "id": "631b0902-a662-4dd8-8957-4068fa0a3947",
   "metadata": {},
   "outputs": [
    {
     "data": {
      "text/html": [
       "<img src=\"https://static.remove.bg/sample-gallery/graphics/bird-thumbnail.jpg\" alt=\"Sample Image\" width=\"300\">\n"
      ],
      "text/plain": [
       "<IPython.core.display.HTML object>"
      ]
     },
     "metadata": {},
     "output_type": "display_data"
    }
   ],
   "source": [
    "%%html\n",
    "<img src=\"https://static.remove.bg/sample-gallery/graphics/bird-thumbnail.jpg\" alt=\"Sample Image\" width=\"300\">"
   ]
  },
  {
   "cell_type": "code",
   "execution_count": 79,
   "id": "9efce633-f419-4088-b1f8-a64cd605d2f7",
   "metadata": {},
   "outputs": [
    {
     "data": {
      "text/html": [
       "<table border=\"1\">\n",
       "  <tr>\n",
       "    <th>Firstname</th>\n",
       "    <th>Lastname</th>\n",
       "    <th>Age</th>\n",
       "  </tr>\n",
       "  <tr>\n",
       "    <td>John</td>\n",
       "    <td>Doe</td>\n",
       "    <td>50</td>\n",
       "  </tr>\n",
       "  <tr>\n",
       "    <td>Jane</td>\n",
       "    <td>Doe</td>\n",
       "    <td>45</td>\n",
       "  </tr>\n",
       "</table>\n"
      ],
      "text/plain": [
       "<IPython.core.display.HTML object>"
      ]
     },
     "metadata": {},
     "output_type": "display_data"
    }
   ],
   "source": [
    "%%html\n",
    "<table border=\"1\">\n",
    "  <tr>\n",
    "    <th>Firstname</th>\n",
    "    <th>Lastname</th>\n",
    "    <th>Age</th>\n",
    "  </tr>\n",
    "  <tr>\n",
    "    <td>John</td>\n",
    "    <td>Doe</td>\n",
    "    <td>50</td>\n",
    "  </tr>\n",
    "  <tr>\n",
    "    <td>Jane</td>\n",
    "    <td>Doe</td>\n",
    "    <td>45</td>\n",
    "  </tr>\n",
    "</table>"
   ]
  },
  {
   "cell_type": "code",
   "execution_count": 80,
   "id": "98c0778b-2ea1-4607-897e-4c0bc8b0f902",
   "metadata": {},
   "outputs": [
    {
     "data": {
      "text/html": [
       "<button onclick=\"alert('Hello, world!')\">Click Me!</button>\n"
      ],
      "text/plain": [
       "<IPython.core.display.HTML object>"
      ]
     },
     "metadata": {},
     "output_type": "display_data"
    }
   ],
   "source": [
    "%%html\n",
    "<button onclick=\"alert('Hello, world!')\">Click Me!</button>"
   ]
  },
  {
   "cell_type": "markdown",
   "id": "5047dcc3-f2eb-42f6-b5ac-10e6ba929173",
   "metadata": {},
   "source": [
    "## %%javascript"
   ]
  },
  {
   "cell_type": "code",
   "execution_count": 81,
   "id": "c3744013-584a-4910-9d32-794997194bbc",
   "metadata": {},
   "outputs": [
    {
     "data": {
      "application/javascript": [
       "alert('Hello, Jupyter!');\n"
      ],
      "text/plain": [
       "<IPython.core.display.Javascript object>"
      ]
     },
     "metadata": {},
     "output_type": "display_data"
    }
   ],
   "source": [
    "%%javascript\n",
    "alert('Hello, Jupyter!');"
   ]
  },
  {
   "cell_type": "code",
   "execution_count": 82,
   "id": "01626395-91a4-4ddc-8c81-9477cbbbf07a",
   "metadata": {},
   "outputs": [
    {
     "data": {
      "text/html": [
       "<select id=\"dataSelection\">\n",
       "    <option value=\"data1\">Dataset 1</option>\n",
       "    <option value=\"data2\">Dataset 2</option>\n",
       "    <option value=\"data3\">Dataset 3</option>\n",
       "</select>\n",
       "<div id=\"displayArea\">Selected Dataset Information will appear here.</div>\n"
      ],
      "text/plain": [
       "<IPython.core.display.HTML object>"
      ]
     },
     "metadata": {},
     "output_type": "display_data"
    }
   ],
   "source": [
    "%%html\n",
    "<select id=\"dataSelection\">\n",
    "    <option value=\"data1\">Dataset 1</option>\n",
    "    <option value=\"data2\">Dataset 2</option>\n",
    "    <option value=\"data3\">Dataset 3</option>\n",
    "</select>\n",
    "<div id=\"displayArea\">Selected Dataset Information will appear here.</div>"
   ]
  },
  {
   "cell_type": "code",
   "execution_count": 83,
   "id": "70ca401a-f48a-4dbe-8be4-705f9958638c",
   "metadata": {},
   "outputs": [
    {
     "data": {
      "application/javascript": [
       "\n",
       "// Function to update display based on selection\n",
       "function updateDisplay() {\n",
       "    var selection = document.getElementById('dataSelection').value;\n",
       "    var displayText = 'You selected ' + selection + ', displaying results...';\n",
       "    // This could be a place to dynamically update a chart or data visualization\n",
       "    document.getElementById('displayArea').innerText = displayText;\n",
       "}\n",
       "\n",
       "// Add event listener to dropdown\n",
       "document.getElementById('dataSelection').addEventListener('change', updateDisplay);\n",
       "\n",
       "// Initialize display\n",
       "updateDisplay();\n"
      ],
      "text/plain": [
       "<IPython.core.display.Javascript object>"
      ]
     },
     "metadata": {},
     "output_type": "display_data"
    }
   ],
   "source": [
    "%%javascript\n",
    "\n",
    "// Function to update display based on selection\n",
    "function updateDisplay() {\n",
    "    var selection = document.getElementById('dataSelection').value;\n",
    "    var displayText = 'You selected ' + selection + ', displaying results...';\n",
    "    // This could be a place to dynamically update a chart or data visualization\n",
    "    document.getElementById('displayArea').innerText = displayText;\n",
    "}\n",
    "\n",
    "// Add event listener to dropdown\n",
    "document.getElementById('dataSelection').addEventListener('change', updateDisplay);\n",
    "\n",
    "// Initialize display\n",
    "updateDisplay();"
   ]
  },
  {
   "cell_type": "markdown",
   "id": "aa2b5bb9-a080-4854-8383-6aafa2b7e7ed",
   "metadata": {},
   "source": [
    "## %%latex"
   ]
  },
  {
   "cell_type": "code",
   "execution_count": 84,
   "id": "8388201d-5468-49c9-819f-e07410290309",
   "metadata": {},
   "outputs": [
    {
     "data": {
      "text/latex": [
       "\\begin{align}\n",
       "\\nabla \\times \\vec{\\mathbf{B}} -\\, \\frac1{c} \\, \\frac{\\partial\\vec{\\mathbf{E}}}{\\partial t} & = \\frac{4\\pi}{c}\\vec{\\mathbf{j}} \\\\\n",
       "\\nabla \\cdot \\vec{\\mathbf{E}} & = 4 \\pi \\rho \\\\\n",
       "\\nabla \\times \\vec{\\mathbf{E}}\\, +\\, \\frac1{c} \\, \\frac{\\partial\\vec{\\mathbf{B}}}{\\partial t} & = \\vec{\\mathbf{0}} \\\\\n",
       "\\nabla \\cdot \\vec{\\mathbf{B}} & = 0\n",
       "\\end{align}\n"
      ],
      "text/plain": [
       "<IPython.core.display.Latex object>"
      ]
     },
     "metadata": {},
     "output_type": "display_data"
    }
   ],
   "source": [
    "%%latex\n",
    "\\begin{align}\n",
    "\\nabla \\times \\vec{\\mathbf{B}} -\\, \\frac1{c} \\, \\frac{\\partial\\vec{\\mathbf{E}}}{\\partial t} & = \\frac{4\\pi}{c}\\vec{\\mathbf{j}} \\\\\n",
    "\\nabla \\cdot \\vec{\\mathbf{E}} & = 4 \\pi \\rho \\\\\n",
    "\\nabla \\times \\vec{\\mathbf{E}}\\, +\\, \\frac1{c} \\, \\frac{\\partial\\vec{\\mathbf{B}}}{\\partial t} & = \\vec{\\mathbf{0}} \\\\\n",
    "\\nabla \\cdot \\vec{\\mathbf{B}} & = 0\n",
    "\\end{align}"
   ]
  },
  {
   "cell_type": "markdown",
   "id": "eee1cdc4-a355-4fc3-8d7a-bed4ea4478ba",
   "metadata": {},
   "source": [
    "# 3. Jupyter Widgets"
   ]
  },
  {
   "cell_type": "code",
   "execution_count": 85,
   "id": "bd839c1e-abb0-4b92-a7e6-c175974111fc",
   "metadata": {},
   "outputs": [],
   "source": [
    "# !pip install ipywidgets\n",
    "# !pip install IPython\n",
    "# !pip install plotly"
   ]
  },
  {
   "cell_type": "code",
   "execution_count": 99,
   "id": "2b2d0a5f-6fc0-4df5-be68-728cf5681cf9",
   "metadata": {},
   "outputs": [
    {
     "data": {
      "application/vnd.jupyter.widget-view+json": {
       "model_id": "502e2ff7587a4dacb4619588f9b0df3f",
       "version_major": 2,
       "version_minor": 0
      },
      "text/plain": [
       "IntSlider(value=7, continuous_update=False, description='Test Slider:', max=10)"
      ]
     },
     "metadata": {},
     "output_type": "display_data"
    }
   ],
   "source": [
    "import ipywidgets as widgets\n",
    "from IPython.display import display\n",
    "\n",
    "slider = widgets.IntSlider(\n",
    "    value=7,\n",
    "    min=0,\n",
    "    max=10,\n",
    "    step=1,\n",
    "    description='Test Slider:',\n",
    "    disabled=False,\n",
    "    continuous_update=False,\n",
    "    orientation='horizontal',\n",
    "    readout=True,\n",
    "    readout_format='d'\n",
    ")\n",
    "display(slider)"
   ]
  },
  {
   "cell_type": "code",
   "execution_count": 100,
   "id": "4af818fe-e6ca-4923-b8fe-0d3348ce6cc1",
   "metadata": {},
   "outputs": [
    {
     "data": {
      "application/vnd.jupyter.widget-view+json": {
       "model_id": "9f89d1c88dec406db64bbbe0e69ae1d7",
       "version_major": 2,
       "version_minor": 0
      },
      "text/plain": [
       "interactive(children=(FloatSlider(value=1.0, description='frequency', max=10.0, min=1.0), Output()), _dom_clas…"
      ]
     },
     "metadata": {},
     "output_type": "display_data"
    }
   ],
   "source": [
    "import numpy as np\n",
    "import matplotlib.pyplot as plt\n",
    "from ipywidgets import interactive\n",
    "\n",
    "def plot_sine_wave(frequency=1.0):\n",
    "    # Generate x values\n",
    "    x = np.linspace(0, 2 * np.pi, 100)\n",
    "    # Calculate y values based on the current frequency\n",
    "    y = np.sin(x * frequency)\n",
    "    \n",
    "    # Plotting the sine wave\n",
    "    plt.figure(figsize=(10,4))\n",
    "    plt.plot(x, y)\n",
    "    plt.ylim(-1.1, 1.1)\n",
    "    plt.title('Sine Wave')\n",
    "    plt.show()\n",
    "\n",
    "# Create an interactive widget for the sine wave frequency\n",
    "interactive_plot = interactive(plot_sine_wave, frequency=(1, 10, 0.1))\n",
    "display(interactive_plot)"
   ]
  },
  {
   "cell_type": "code",
   "execution_count": 101,
   "id": "2097f8f8-e3ec-4a5b-a7c1-67f0b380fa25",
   "metadata": {},
   "outputs": [
    {
     "data": {
      "application/vnd.jupyter.widget-view+json": {
       "model_id": "6e2abd5e7eba4d10b1a537e7448a9166",
       "version_major": 2,
       "version_minor": 0
      },
      "text/plain": [
       "interactive(children=(IntSlider(value=10, description='Marker Size:', max=30, min=5), FloatSlider(value=99.005…"
      ]
     },
     "metadata": {},
     "output_type": "display_data"
    }
   ],
   "source": [
    "import pandas as pd\n",
    "import numpy as np\n",
    "import plotly.express as px\n",
    "from ipywidgets import interactive, IntSlider, FloatSlider\n",
    "\n",
    "# Generate a random dataset\n",
    "np.random.seed(42)\n",
    "df = pd.DataFrame({\n",
    "    'x': np.random.rand(100),\n",
    "    'y': np.random.rand(100),\n",
    "    'data_value': np.random.rand(100) * 100  # A column to filter by\n",
    "})\n",
    "\n",
    "# Function to update the plot\n",
    "def update_plot(marker_size, filter_value):\n",
    "    filtered_df = df[df['data_value'] < filter_value]\n",
    "    \n",
    "    fig = px.scatter(\n",
    "        filtered_df, x='x', y='y', size=np.full(len(filtered_df), marker_size),\n",
    "        size_max=marker_size, title='Interactive Scatter Plot'\n",
    "    )\n",
    "    fig.update_traces(marker=dict(opacity=0.8))\n",
    "    fig.update_layout(transition_duration=500)\n",
    "    fig.show()\n",
    "\n",
    "# Create widgets\n",
    "marker_size_slider = IntSlider(min=5, max=30, value=10, description='Marker Size:')\n",
    "filter_slider = FloatSlider(min=df['data_value'].min(), max=df['data_value'].max(), value=df['data_value'].max(), description='Filter Value:')\n",
    "\n",
    "# Display interactive plot\n",
    "interactive_plot = interactive(update_plot, marker_size=marker_size_slider, filter_value=filter_slider)\n",
    "display(interactive_plot)"
   ]
  },
  {
   "cell_type": "markdown",
   "id": "136d569c-98c8-429d-9146-8a60b3c3eb62",
   "metadata": {},
   "source": [
    "# 4 Jupyter Extensions"
   ]
  },
  {
   "cell_type": "code",
   "execution_count": 103,
   "id": "a7929d73-8483-4741-bc12-8b8a91fad36c",
   "metadata": {
    "scrolled": true
   },
   "outputs": [
    {
     "name": "stdout",
     "output_type": "stream",
     "text": [
      "Requirement already satisfied: jupyter_contrib_nbextensions in d:\\python\\python_projects\\master_jupyter_notebook\\env\\lib\\site-packages (0.7.0)\n",
      "Requirement already satisfied: ipython-genutils in d:\\python\\python_projects\\master_jupyter_notebook\\env\\lib\\site-packages (from jupyter_contrib_nbextensions) (0.2.0)\n",
      "Requirement already satisfied: jupyter-contrib-core>=0.3.3 in d:\\python\\python_projects\\master_jupyter_notebook\\env\\lib\\site-packages (from jupyter_contrib_nbextensions) (0.4.2)\n",
      "Requirement already satisfied: jupyter-core in d:\\python\\python_projects\\master_jupyter_notebook\\env\\lib\\site-packages (from jupyter_contrib_nbextensions) (5.7.2)\n",
      "Requirement already satisfied: jupyter-highlight-selected-word>=0.1.1 in d:\\python\\python_projects\\master_jupyter_notebook\\env\\lib\\site-packages (from jupyter_contrib_nbextensions) (0.2.0)\n",
      "Requirement already satisfied: jupyter-nbextensions-configurator>=0.4.0 in d:\\python\\python_projects\\master_jupyter_notebook\\env\\lib\\site-packages (from jupyter_contrib_nbextensions) (0.6.3)\n",
      "Requirement already satisfied: nbconvert>=6.0 in d:\\python\\python_projects\\master_jupyter_notebook\\env\\lib\\site-packages (from jupyter_contrib_nbextensions) (7.16.2)\n",
      "Requirement already satisfied: notebook>=6.0 in d:\\python\\python_projects\\master_jupyter_notebook\\env\\lib\\site-packages (from jupyter_contrib_nbextensions) (7.1.2)\n",
      "Requirement already satisfied: tornado in d:\\python\\python_projects\\master_jupyter_notebook\\env\\lib\\site-packages (from jupyter_contrib_nbextensions) (6.4)\n",
      "Requirement already satisfied: traitlets>=4.1 in d:\\python\\python_projects\\master_jupyter_notebook\\env\\lib\\site-packages (from jupyter_contrib_nbextensions) (5.14.2)\n",
      "Requirement already satisfied: lxml in d:\\python\\python_projects\\master_jupyter_notebook\\env\\lib\\site-packages (from jupyter_contrib_nbextensions) (5.1.0)\n",
      "Requirement already satisfied: setuptools in d:\\python\\python_projects\\master_jupyter_notebook\\env\\lib\\site-packages (from jupyter-contrib-core>=0.3.3->jupyter_contrib_nbextensions) (68.2.2)\n",
      "Requirement already satisfied: pyyaml in d:\\python\\python_projects\\master_jupyter_notebook\\env\\lib\\site-packages (from jupyter-nbextensions-configurator>=0.4.0->jupyter_contrib_nbextensions) (6.0.1)\n",
      "Requirement already satisfied: beautifulsoup4 in d:\\python\\python_projects\\master_jupyter_notebook\\env\\lib\\site-packages (from nbconvert>=6.0->jupyter_contrib_nbextensions) (4.12.3)\n",
      "Requirement already satisfied: bleach!=5.0.0 in d:\\python\\python_projects\\master_jupyter_notebook\\env\\lib\\site-packages (from nbconvert>=6.0->jupyter_contrib_nbextensions) (6.1.0)\n",
      "Requirement already satisfied: defusedxml in d:\\python\\python_projects\\master_jupyter_notebook\\env\\lib\\site-packages (from nbconvert>=6.0->jupyter_contrib_nbextensions) (0.7.1)\n",
      "Requirement already satisfied: importlib-metadata>=3.6 in d:\\python\\python_projects\\master_jupyter_notebook\\env\\lib\\site-packages (from nbconvert>=6.0->jupyter_contrib_nbextensions) (7.0.2)\n",
      "Requirement already satisfied: jinja2>=3.0 in d:\\python\\python_projects\\master_jupyter_notebook\\env\\lib\\site-packages (from nbconvert>=6.0->jupyter_contrib_nbextensions) (3.1.3)\n",
      "Requirement already satisfied: jupyterlab-pygments in d:\\python\\python_projects\\master_jupyter_notebook\\env\\lib\\site-packages (from nbconvert>=6.0->jupyter_contrib_nbextensions) (0.3.0)\n",
      "Requirement already satisfied: markupsafe>=2.0 in d:\\python\\python_projects\\master_jupyter_notebook\\env\\lib\\site-packages (from nbconvert>=6.0->jupyter_contrib_nbextensions) (2.1.5)\n",
      "Requirement already satisfied: mistune<4,>=2.0.3 in d:\\python\\python_projects\\master_jupyter_notebook\\env\\lib\\site-packages (from nbconvert>=6.0->jupyter_contrib_nbextensions) (3.0.2)\n",
      "Requirement already satisfied: nbclient>=0.5.0 in d:\\python\\python_projects\\master_jupyter_notebook\\env\\lib\\site-packages (from nbconvert>=6.0->jupyter_contrib_nbextensions) (0.10.0)\n",
      "Requirement already satisfied: nbformat>=5.7 in d:\\python\\python_projects\\master_jupyter_notebook\\env\\lib\\site-packages (from nbconvert>=6.0->jupyter_contrib_nbextensions) (5.10.2)\n",
      "Requirement already satisfied: packaging in d:\\python\\python_projects\\master_jupyter_notebook\\env\\lib\\site-packages (from nbconvert>=6.0->jupyter_contrib_nbextensions) (24.0)\n",
      "Requirement already satisfied: pandocfilters>=1.4.1 in d:\\python\\python_projects\\master_jupyter_notebook\\env\\lib\\site-packages (from nbconvert>=6.0->jupyter_contrib_nbextensions) (1.5.1)\n",
      "Requirement already satisfied: pygments>=2.4.1 in d:\\python\\python_projects\\master_jupyter_notebook\\env\\lib\\site-packages (from nbconvert>=6.0->jupyter_contrib_nbextensions) (2.17.2)\n",
      "Requirement already satisfied: tinycss2 in d:\\python\\python_projects\\master_jupyter_notebook\\env\\lib\\site-packages (from nbconvert>=6.0->jupyter_contrib_nbextensions) (1.2.1)\n",
      "Requirement already satisfied: platformdirs>=2.5 in d:\\python\\python_projects\\master_jupyter_notebook\\env\\lib\\site-packages (from jupyter-core->jupyter_contrib_nbextensions) (4.2.0)\n",
      "Requirement already satisfied: pywin32>=300 in d:\\python\\python_projects\\master_jupyter_notebook\\env\\lib\\site-packages (from jupyter-core->jupyter_contrib_nbextensions) (306)\n",
      "Requirement already satisfied: jupyter-server<3,>=2.4.0 in d:\\python\\python_projects\\master_jupyter_notebook\\env\\lib\\site-packages (from notebook>=6.0->jupyter_contrib_nbextensions) (2.13.0)\n",
      "Requirement already satisfied: jupyterlab-server<3,>=2.22.1 in d:\\python\\python_projects\\master_jupyter_notebook\\env\\lib\\site-packages (from notebook>=6.0->jupyter_contrib_nbextensions) (2.25.4)\n",
      "Requirement already satisfied: jupyterlab<4.2,>=4.1.1 in d:\\python\\python_projects\\master_jupyter_notebook\\env\\lib\\site-packages (from notebook>=6.0->jupyter_contrib_nbextensions) (4.1.5)\n",
      "Requirement already satisfied: notebook-shim<0.3,>=0.2 in d:\\python\\python_projects\\master_jupyter_notebook\\env\\lib\\site-packages (from notebook>=6.0->jupyter_contrib_nbextensions) (0.2.4)\n",
      "Requirement already satisfied: six>=1.9.0 in d:\\python\\python_projects\\master_jupyter_notebook\\env\\lib\\site-packages (from bleach!=5.0.0->nbconvert>=6.0->jupyter_contrib_nbextensions) (1.16.0)\n",
      "Requirement already satisfied: webencodings in d:\\python\\python_projects\\master_jupyter_notebook\\env\\lib\\site-packages (from bleach!=5.0.0->nbconvert>=6.0->jupyter_contrib_nbextensions) (0.5.1)\n",
      "Requirement already satisfied: zipp>=0.5 in d:\\python\\python_projects\\master_jupyter_notebook\\env\\lib\\site-packages (from importlib-metadata>=3.6->nbconvert>=6.0->jupyter_contrib_nbextensions) (3.18.0)\n",
      "Requirement already satisfied: anyio>=3.1.0 in d:\\python\\python_projects\\master_jupyter_notebook\\env\\lib\\site-packages (from jupyter-server<3,>=2.4.0->notebook>=6.0->jupyter_contrib_nbextensions) (4.3.0)\n",
      "Requirement already satisfied: argon2-cffi in d:\\python\\python_projects\\master_jupyter_notebook\\env\\lib\\site-packages (from jupyter-server<3,>=2.4.0->notebook>=6.0->jupyter_contrib_nbextensions) (23.1.0)\n",
      "Requirement already satisfied: jupyter-client>=7.4.4 in d:\\python\\python_projects\\master_jupyter_notebook\\env\\lib\\site-packages (from jupyter-server<3,>=2.4.0->notebook>=6.0->jupyter_contrib_nbextensions) (8.6.1)\n",
      "Requirement already satisfied: jupyter-events>=0.9.0 in d:\\python\\python_projects\\master_jupyter_notebook\\env\\lib\\site-packages (from jupyter-server<3,>=2.4.0->notebook>=6.0->jupyter_contrib_nbextensions) (0.9.1)\n",
      "Requirement already satisfied: jupyter-server-terminals in d:\\python\\python_projects\\master_jupyter_notebook\\env\\lib\\site-packages (from jupyter-server<3,>=2.4.0->notebook>=6.0->jupyter_contrib_nbextensions) (0.5.3)\n",
      "Requirement already satisfied: overrides in d:\\python\\python_projects\\master_jupyter_notebook\\env\\lib\\site-packages (from jupyter-server<3,>=2.4.0->notebook>=6.0->jupyter_contrib_nbextensions) (7.7.0)\n",
      "Requirement already satisfied: prometheus-client in d:\\python\\python_projects\\master_jupyter_notebook\\env\\lib\\site-packages (from jupyter-server<3,>=2.4.0->notebook>=6.0->jupyter_contrib_nbextensions) (0.20.0)\n",
      "Requirement already satisfied: pywinpty in d:\\python\\python_projects\\master_jupyter_notebook\\env\\lib\\site-packages (from jupyter-server<3,>=2.4.0->notebook>=6.0->jupyter_contrib_nbextensions) (2.0.13)\n",
      "Requirement already satisfied: pyzmq>=24 in d:\\python\\python_projects\\master_jupyter_notebook\\env\\lib\\site-packages (from jupyter-server<3,>=2.4.0->notebook>=6.0->jupyter_contrib_nbextensions) (25.1.2)\n",
      "Requirement already satisfied: send2trash>=1.8.2 in d:\\python\\python_projects\\master_jupyter_notebook\\env\\lib\\site-packages (from jupyter-server<3,>=2.4.0->notebook>=6.0->jupyter_contrib_nbextensions) (1.8.2)\n",
      "Requirement already satisfied: terminado>=0.8.3 in d:\\python\\python_projects\\master_jupyter_notebook\\env\\lib\\site-packages (from jupyter-server<3,>=2.4.0->notebook>=6.0->jupyter_contrib_nbextensions) (0.18.1)\n",
      "Requirement already satisfied: websocket-client in d:\\python\\python_projects\\master_jupyter_notebook\\env\\lib\\site-packages (from jupyter-server<3,>=2.4.0->notebook>=6.0->jupyter_contrib_nbextensions) (1.7.0)\n",
      "Requirement already satisfied: async-lru>=1.0.0 in d:\\python\\python_projects\\master_jupyter_notebook\\env\\lib\\site-packages (from jupyterlab<4.2,>=4.1.1->notebook>=6.0->jupyter_contrib_nbextensions) (2.0.4)\n",
      "Requirement already satisfied: httpx>=0.25.0 in d:\\python\\python_projects\\master_jupyter_notebook\\env\\lib\\site-packages (from jupyterlab<4.2,>=4.1.1->notebook>=6.0->jupyter_contrib_nbextensions) (0.27.0)\n",
      "Requirement already satisfied: importlib-resources>=1.4 in d:\\python\\python_projects\\master_jupyter_notebook\\env\\lib\\site-packages (from jupyterlab<4.2,>=4.1.1->notebook>=6.0->jupyter_contrib_nbextensions) (6.3.0)\n",
      "Requirement already satisfied: ipykernel in d:\\python\\python_projects\\master_jupyter_notebook\\env\\lib\\site-packages (from jupyterlab<4.2,>=4.1.1->notebook>=6.0->jupyter_contrib_nbextensions) (6.29.3)\n",
      "Requirement already satisfied: jupyter-lsp>=2.0.0 in d:\\python\\python_projects\\master_jupyter_notebook\\env\\lib\\site-packages (from jupyterlab<4.2,>=4.1.1->notebook>=6.0->jupyter_contrib_nbextensions) (2.2.4)\n",
      "Requirement already satisfied: tomli in d:\\python\\python_projects\\master_jupyter_notebook\\env\\lib\\site-packages (from jupyterlab<4.2,>=4.1.1->notebook>=6.0->jupyter_contrib_nbextensions) (2.0.1)\n",
      "Requirement already satisfied: babel>=2.10 in d:\\python\\python_projects\\master_jupyter_notebook\\env\\lib\\site-packages (from jupyterlab-server<3,>=2.22.1->notebook>=6.0->jupyter_contrib_nbextensions) (2.14.0)\n",
      "Requirement already satisfied: json5>=0.9.0 in d:\\python\\python_projects\\master_jupyter_notebook\\env\\lib\\site-packages (from jupyterlab-server<3,>=2.22.1->notebook>=6.0->jupyter_contrib_nbextensions) (0.9.22)\n",
      "Requirement already satisfied: jsonschema>=4.18.0 in d:\\python\\python_projects\\master_jupyter_notebook\\env\\lib\\site-packages (from jupyterlab-server<3,>=2.22.1->notebook>=6.0->jupyter_contrib_nbextensions) (4.21.1)\n",
      "Requirement already satisfied: requests>=2.31 in d:\\python\\python_projects\\master_jupyter_notebook\\env\\lib\\site-packages (from jupyterlab-server<3,>=2.22.1->notebook>=6.0->jupyter_contrib_nbextensions) (2.31.0)\n",
      "Requirement already satisfied: fastjsonschema in d:\\python\\python_projects\\master_jupyter_notebook\\env\\lib\\site-packages (from nbformat>=5.7->nbconvert>=6.0->jupyter_contrib_nbextensions) (2.19.1)\n",
      "Requirement already satisfied: soupsieve>1.2 in d:\\python\\python_projects\\master_jupyter_notebook\\env\\lib\\site-packages (from beautifulsoup4->nbconvert>=6.0->jupyter_contrib_nbextensions) (2.5)\n",
      "Requirement already satisfied: idna>=2.8 in d:\\python\\python_projects\\master_jupyter_notebook\\env\\lib\\site-packages (from anyio>=3.1.0->jupyter-server<3,>=2.4.0->notebook>=6.0->jupyter_contrib_nbextensions) (3.6)\n",
      "Requirement already satisfied: sniffio>=1.1 in d:\\python\\python_projects\\master_jupyter_notebook\\env\\lib\\site-packages (from anyio>=3.1.0->jupyter-server<3,>=2.4.0->notebook>=6.0->jupyter_contrib_nbextensions) (1.3.1)\n",
      "Requirement already satisfied: exceptiongroup>=1.0.2 in d:\\python\\python_projects\\master_jupyter_notebook\\env\\lib\\site-packages (from anyio>=3.1.0->jupyter-server<3,>=2.4.0->notebook>=6.0->jupyter_contrib_nbextensions) (1.2.0)\n",
      "Requirement already satisfied: typing-extensions>=4.1 in d:\\python\\python_projects\\master_jupyter_notebook\\env\\lib\\site-packages (from anyio>=3.1.0->jupyter-server<3,>=2.4.0->notebook>=6.0->jupyter_contrib_nbextensions) (4.10.0)\n",
      "Requirement already satisfied: pytz>=2015.7 in d:\\python\\python_projects\\master_jupyter_notebook\\env\\lib\\site-packages (from babel>=2.10->jupyterlab-server<3,>=2.22.1->notebook>=6.0->jupyter_contrib_nbextensions) (2024.1)\n",
      "Requirement already satisfied: certifi in d:\\python\\python_projects\\master_jupyter_notebook\\env\\lib\\site-packages (from httpx>=0.25.0->jupyterlab<4.2,>=4.1.1->notebook>=6.0->jupyter_contrib_nbextensions) (2024.2.2)\n",
      "Requirement already satisfied: httpcore==1.* in d:\\python\\python_projects\\master_jupyter_notebook\\env\\lib\\site-packages (from httpx>=0.25.0->jupyterlab<4.2,>=4.1.1->notebook>=6.0->jupyter_contrib_nbextensions) (1.0.4)\n",
      "Requirement already satisfied: h11<0.15,>=0.13 in d:\\python\\python_projects\\master_jupyter_notebook\\env\\lib\\site-packages (from httpcore==1.*->httpx>=0.25.0->jupyterlab<4.2,>=4.1.1->notebook>=6.0->jupyter_contrib_nbextensions) (0.14.0)\n",
      "Requirement already satisfied: attrs>=22.2.0 in d:\\python\\python_projects\\master_jupyter_notebook\\env\\lib\\site-packages (from jsonschema>=4.18.0->jupyterlab-server<3,>=2.22.1->notebook>=6.0->jupyter_contrib_nbextensions) (23.2.0)\n",
      "Requirement already satisfied: jsonschema-specifications>=2023.03.6 in d:\\python\\python_projects\\master_jupyter_notebook\\env\\lib\\site-packages (from jsonschema>=4.18.0->jupyterlab-server<3,>=2.22.1->notebook>=6.0->jupyter_contrib_nbextensions) (2023.12.1)\n",
      "Requirement already satisfied: pkgutil-resolve-name>=1.3.10 in d:\\python\\python_projects\\master_jupyter_notebook\\env\\lib\\site-packages (from jsonschema>=4.18.0->jupyterlab-server<3,>=2.22.1->notebook>=6.0->jupyter_contrib_nbextensions) (1.3.10)\n",
      "Requirement already satisfied: referencing>=0.28.4 in d:\\python\\python_projects\\master_jupyter_notebook\\env\\lib\\site-packages (from jsonschema>=4.18.0->jupyterlab-server<3,>=2.22.1->notebook>=6.0->jupyter_contrib_nbextensions) (0.33.0)\n",
      "Requirement already satisfied: rpds-py>=0.7.1 in d:\\python\\python_projects\\master_jupyter_notebook\\env\\lib\\site-packages (from jsonschema>=4.18.0->jupyterlab-server<3,>=2.22.1->notebook>=6.0->jupyter_contrib_nbextensions) (0.18.0)\n",
      "Requirement already satisfied: python-dateutil>=2.8.2 in d:\\python\\python_projects\\master_jupyter_notebook\\env\\lib\\site-packages (from jupyter-client>=7.4.4->jupyter-server<3,>=2.4.0->notebook>=6.0->jupyter_contrib_nbextensions) (2.9.0.post0)\n",
      "Requirement already satisfied: python-json-logger>=2.0.4 in d:\\python\\python_projects\\master_jupyter_notebook\\env\\lib\\site-packages (from jupyter-events>=0.9.0->jupyter-server<3,>=2.4.0->notebook>=6.0->jupyter_contrib_nbextensions) (2.0.7)\n",
      "Requirement already satisfied: rfc3339-validator in d:\\python\\python_projects\\master_jupyter_notebook\\env\\lib\\site-packages (from jupyter-events>=0.9.0->jupyter-server<3,>=2.4.0->notebook>=6.0->jupyter_contrib_nbextensions) (0.1.4)\n",
      "Requirement already satisfied: rfc3986-validator>=0.1.1 in d:\\python\\python_projects\\master_jupyter_notebook\\env\\lib\\site-packages (from jupyter-events>=0.9.0->jupyter-server<3,>=2.4.0->notebook>=6.0->jupyter_contrib_nbextensions) (0.1.1)\n",
      "Requirement already satisfied: charset-normalizer<4,>=2 in d:\\python\\python_projects\\master_jupyter_notebook\\env\\lib\\site-packages (from requests>=2.31->jupyterlab-server<3,>=2.22.1->notebook>=6.0->jupyter_contrib_nbextensions) (3.3.2)\n",
      "Requirement already satisfied: urllib3<3,>=1.21.1 in d:\\python\\python_projects\\master_jupyter_notebook\\env\\lib\\site-packages (from requests>=2.31->jupyterlab-server<3,>=2.22.1->notebook>=6.0->jupyter_contrib_nbextensions) (2.2.1)\n",
      "Requirement already satisfied: argon2-cffi-bindings in d:\\python\\python_projects\\master_jupyter_notebook\\env\\lib\\site-packages (from argon2-cffi->jupyter-server<3,>=2.4.0->notebook>=6.0->jupyter_contrib_nbextensions) (21.2.0)\n",
      "Requirement already satisfied: comm>=0.1.1 in d:\\python\\python_projects\\master_jupyter_notebook\\env\\lib\\site-packages (from ipykernel->jupyterlab<4.2,>=4.1.1->notebook>=6.0->jupyter_contrib_nbextensions) (0.2.2)\n",
      "Requirement already satisfied: debugpy>=1.6.5 in d:\\python\\python_projects\\master_jupyter_notebook\\env\\lib\\site-packages (from ipykernel->jupyterlab<4.2,>=4.1.1->notebook>=6.0->jupyter_contrib_nbextensions) (1.8.1)\n",
      "Requirement already satisfied: ipython>=7.23.1 in d:\\python\\python_projects\\master_jupyter_notebook\\env\\lib\\site-packages (from ipykernel->jupyterlab<4.2,>=4.1.1->notebook>=6.0->jupyter_contrib_nbextensions) (8.12.3)\n",
      "Requirement already satisfied: matplotlib-inline>=0.1 in d:\\python\\python_projects\\master_jupyter_notebook\\env\\lib\\site-packages (from ipykernel->jupyterlab<4.2,>=4.1.1->notebook>=6.0->jupyter_contrib_nbextensions) (0.1.6)\n",
      "Requirement already satisfied: nest-asyncio in d:\\python\\python_projects\\master_jupyter_notebook\\env\\lib\\site-packages (from ipykernel->jupyterlab<4.2,>=4.1.1->notebook>=6.0->jupyter_contrib_nbextensions) (1.6.0)\n",
      "Requirement already satisfied: psutil in d:\\python\\python_projects\\master_jupyter_notebook\\env\\lib\\site-packages (from ipykernel->jupyterlab<4.2,>=4.1.1->notebook>=6.0->jupyter_contrib_nbextensions) (5.9.8)\n",
      "Requirement already satisfied: backcall in d:\\python\\python_projects\\master_jupyter_notebook\\env\\lib\\site-packages (from ipython>=7.23.1->ipykernel->jupyterlab<4.2,>=4.1.1->notebook>=6.0->jupyter_contrib_nbextensions) (0.2.0)\n",
      "Requirement already satisfied: decorator in d:\\python\\python_projects\\master_jupyter_notebook\\env\\lib\\site-packages (from ipython>=7.23.1->ipykernel->jupyterlab<4.2,>=4.1.1->notebook>=6.0->jupyter_contrib_nbextensions) (5.1.1)\n",
      "Requirement already satisfied: jedi>=0.16 in d:\\python\\python_projects\\master_jupyter_notebook\\env\\lib\\site-packages (from ipython>=7.23.1->ipykernel->jupyterlab<4.2,>=4.1.1->notebook>=6.0->jupyter_contrib_nbextensions) (0.19.1)\n",
      "Requirement already satisfied: pickleshare in d:\\python\\python_projects\\master_jupyter_notebook\\env\\lib\\site-packages (from ipython>=7.23.1->ipykernel->jupyterlab<4.2,>=4.1.1->notebook>=6.0->jupyter_contrib_nbextensions) (0.7.5)\n",
      "Requirement already satisfied: prompt-toolkit!=3.0.37,<3.1.0,>=3.0.30 in d:\\python\\python_projects\\master_jupyter_notebook\\env\\lib\\site-packages (from ipython>=7.23.1->ipykernel->jupyterlab<4.2,>=4.1.1->notebook>=6.0->jupyter_contrib_nbextensions) (3.0.43)\n",
      "Requirement already satisfied: stack-data in d:\\python\\python_projects\\master_jupyter_notebook\\env\\lib\\site-packages (from ipython>=7.23.1->ipykernel->jupyterlab<4.2,>=4.1.1->notebook>=6.0->jupyter_contrib_nbextensions) (0.6.3)\n",
      "Requirement already satisfied: colorama in d:\\python\\python_projects\\master_jupyter_notebook\\env\\lib\\site-packages (from ipython>=7.23.1->ipykernel->jupyterlab<4.2,>=4.1.1->notebook>=6.0->jupyter_contrib_nbextensions) (0.4.6)\n",
      "Requirement already satisfied: fqdn in d:\\python\\python_projects\\master_jupyter_notebook\\env\\lib\\site-packages (from jsonschema[format-nongpl]>=4.18.0->jupyter-events>=0.9.0->jupyter-server<3,>=2.4.0->notebook>=6.0->jupyter_contrib_nbextensions) (1.5.1)\n",
      "Requirement already satisfied: isoduration in d:\\python\\python_projects\\master_jupyter_notebook\\env\\lib\\site-packages (from jsonschema[format-nongpl]>=4.18.0->jupyter-events>=0.9.0->jupyter-server<3,>=2.4.0->notebook>=6.0->jupyter_contrib_nbextensions) (20.11.0)\n",
      "Requirement already satisfied: jsonpointer>1.13 in d:\\python\\python_projects\\master_jupyter_notebook\\env\\lib\\site-packages (from jsonschema[format-nongpl]>=4.18.0->jupyter-events>=0.9.0->jupyter-server<3,>=2.4.0->notebook>=6.0->jupyter_contrib_nbextensions) (2.4)\n",
      "Requirement already satisfied: uri-template in d:\\python\\python_projects\\master_jupyter_notebook\\env\\lib\\site-packages (from jsonschema[format-nongpl]>=4.18.0->jupyter-events>=0.9.0->jupyter-server<3,>=2.4.0->notebook>=6.0->jupyter_contrib_nbextensions) (1.3.0)\n",
      "Requirement already satisfied: webcolors>=1.11 in d:\\python\\python_projects\\master_jupyter_notebook\\env\\lib\\site-packages (from jsonschema[format-nongpl]>=4.18.0->jupyter-events>=0.9.0->jupyter-server<3,>=2.4.0->notebook>=6.0->jupyter_contrib_nbextensions) (1.13)\n",
      "Requirement already satisfied: cffi>=1.0.1 in d:\\python\\python_projects\\master_jupyter_notebook\\env\\lib\\site-packages (from argon2-cffi-bindings->argon2-cffi->jupyter-server<3,>=2.4.0->notebook>=6.0->jupyter_contrib_nbextensions) (1.16.0)\n",
      "Requirement already satisfied: pycparser in d:\\python\\python_projects\\master_jupyter_notebook\\env\\lib\\site-packages (from cffi>=1.0.1->argon2-cffi-bindings->argon2-cffi->jupyter-server<3,>=2.4.0->notebook>=6.0->jupyter_contrib_nbextensions) (2.21)\n",
      "Requirement already satisfied: parso<0.9.0,>=0.8.3 in d:\\python\\python_projects\\master_jupyter_notebook\\env\\lib\\site-packages (from jedi>=0.16->ipython>=7.23.1->ipykernel->jupyterlab<4.2,>=4.1.1->notebook>=6.0->jupyter_contrib_nbextensions) (0.8.3)\n",
      "Requirement already satisfied: wcwidth in d:\\python\\python_projects\\master_jupyter_notebook\\env\\lib\\site-packages (from prompt-toolkit!=3.0.37,<3.1.0,>=3.0.30->ipython>=7.23.1->ipykernel->jupyterlab<4.2,>=4.1.1->notebook>=6.0->jupyter_contrib_nbextensions) (0.2.13)\n",
      "Requirement already satisfied: arrow>=0.15.0 in d:\\python\\python_projects\\master_jupyter_notebook\\env\\lib\\site-packages (from isoduration->jsonschema[format-nongpl]>=4.18.0->jupyter-events>=0.9.0->jupyter-server<3,>=2.4.0->notebook>=6.0->jupyter_contrib_nbextensions) (1.3.0)\n",
      "Requirement already satisfied: executing>=1.2.0 in d:\\python\\python_projects\\master_jupyter_notebook\\env\\lib\\site-packages (from stack-data->ipython>=7.23.1->ipykernel->jupyterlab<4.2,>=4.1.1->notebook>=6.0->jupyter_contrib_nbextensions) (2.0.1)\n",
      "Requirement already satisfied: asttokens>=2.1.0 in d:\\python\\python_projects\\master_jupyter_notebook\\env\\lib\\site-packages (from stack-data->ipython>=7.23.1->ipykernel->jupyterlab<4.2,>=4.1.1->notebook>=6.0->jupyter_contrib_nbextensions) (2.4.1)\n",
      "Requirement already satisfied: pure-eval in d:\\python\\python_projects\\master_jupyter_notebook\\env\\lib\\site-packages (from stack-data->ipython>=7.23.1->ipykernel->jupyterlab<4.2,>=4.1.1->notebook>=6.0->jupyter_contrib_nbextensions) (0.2.2)\n",
      "Requirement already satisfied: types-python-dateutil>=2.8.10 in d:\\python\\python_projects\\master_jupyter_notebook\\env\\lib\\site-packages (from arrow>=0.15.0->isoduration->jsonschema[format-nongpl]>=4.18.0->jupyter-events>=0.9.0->jupyter-server<3,>=2.4.0->notebook>=6.0->jupyter_contrib_nbextensions) (2.8.19.20240311)\n"
     ]
    },
    {
     "name": "stderr",
     "output_type": "stream",
     "text": [
      "Traceback (most recent call last):\n",
      "  File \"D:\\Python\\python_projects\\master_jupyter_notebook\\env\\lib\\runpy.py\", line 192, in _run_module_as_main\n",
      "    return _run_code(code, main_globals, None,\n",
      "  File \"D:\\Python\\python_projects\\master_jupyter_notebook\\env\\lib\\runpy.py\", line 85, in _run_code\n",
      "    exec(code, run_globals)\n",
      "  File \"D:\\Python\\python_projects\\master_jupyter_notebook\\env\\Scripts\\jupyter-contrib.EXE\\__main__.py\", line 7, in <module>\n",
      "  File \"D:\\Python\\python_projects\\master_jupyter_notebook\\env\\lib\\site-packages\\jupyter_core\\application.py\", line 283, in launch_instance\n",
      "    super().launch_instance(argv=argv, **kwargs)\n",
      "  File \"D:\\Python\\python_projects\\master_jupyter_notebook\\env\\lib\\site-packages\\traitlets\\config\\application.py\", line 1073, in launch_instance\n",
      "    app = cls.instance(**kwargs)\n",
      "  File \"D:\\Python\\python_projects\\master_jupyter_notebook\\env\\lib\\site-packages\\traitlets\\config\\configurable.py\", line 583, in instance\n",
      "    inst = cls(*args, **kwargs)\n",
      "  File \"D:\\Python\\python_projects\\master_jupyter_notebook\\env\\lib\\site-packages\\jupyter_contrib_core\\application.py\", line 27, in __init__\n",
      "    self._refresh_subcommands()\n",
      "  File \"D:\\Python\\python_projects\\master_jupyter_notebook\\env\\lib\\site-packages\\jupyter_contrib_core\\application.py\", line 43, in _refresh_subcommands\n",
      "    get_subcommands_dict = entrypoint.load()\n",
      "  File \"D:\\Python\\python_projects\\master_jupyter_notebook\\env\\lib\\site-packages\\pkg_resources\\__init__.py\", line 2518, in load\n",
      "    return self.resolve()\n",
      "  File \"D:\\Python\\python_projects\\master_jupyter_notebook\\env\\lib\\site-packages\\pkg_resources\\__init__.py\", line 2524, in resolve\n",
      "    module = __import__(self.module_name, fromlist=['__name__'], level=0)\n",
      "  File \"D:\\Python\\python_projects\\master_jupyter_notebook\\env\\lib\\site-packages\\jupyter_contrib_nbextensions\\__init__.py\", line 5, in <module>\n",
      "    import jupyter_nbextensions_configurator\n",
      "  File \"D:\\Python\\python_projects\\master_jupyter_notebook\\env\\lib\\site-packages\\jupyter_nbextensions_configurator\\__init__.py\", line 18, in <module>\n",
      "    from notebook.base.handlers import APIHandler, IPythonHandler\n",
      "ModuleNotFoundError: No module named 'notebook.base'\n"
     ]
    }
   ],
   "source": [
    "!pip install jupyter_contrib_nbextensions\n",
    "!jupyter contrib nbextension install --user\n",
    "!jupyter nbextensions_configurator enable --user"
   ]
  },
  {
   "cell_type": "code",
   "execution_count": 93,
   "id": "fce28cbc-000e-4ae9-9029-5dd134476234",
   "metadata": {},
   "outputs": [],
   "source": [
    "# table of contents"
   ]
  },
  {
   "cell_type": "code",
   "execution_count": 95,
   "id": "22761a3e-d00c-45dd-bb03-dd94f05e5cae",
   "metadata": {},
   "outputs": [],
   "source": [
    "# Code folding"
   ]
  },
  {
   "cell_type": "code",
   "execution_count": 96,
   "id": "8f450b44-042c-4fff-979c-4388af45f33b",
   "metadata": {},
   "outputs": [],
   "source": [
    "# Execute time"
   ]
  },
  {
   "cell_type": "code",
   "execution_count": 97,
   "id": "b7861552-658a-4d97-b052-ede805c75000",
   "metadata": {},
   "outputs": [],
   "source": [
    "# Hide Input"
   ]
  },
  {
   "cell_type": "code",
   "execution_count": 98,
   "id": "beb0d4cd-2bb5-4f4e-ad21-eaa4c89ac0bf",
   "metadata": {},
   "outputs": [],
   "source": [
    "# Variable Inspector"
   ]
  },
  {
   "cell_type": "markdown",
   "id": "bc6abebe-028c-4183-a54a-c6efa3300267",
   "metadata": {},
   "source": [
    "# 5 ChatGPT extension"
   ]
  },
  {
   "cell_type": "code",
   "execution_count": null,
   "id": "062a0b28-3dd4-4256-9ac4-2c4e1c51be31",
   "metadata": {},
   "outputs": [],
   "source": []
  }
 ],
 "metadata": {
  "kernelspec": {
   "display_name": "Python 3 (ipykernel)",
   "language": "python",
   "name": "python3"
  },
  "language_info": {
   "codemirror_mode": {
    "name": "ipython",
    "version": 3
   },
   "file_extension": ".py",
   "mimetype": "text/x-python",
   "name": "python",
   "nbconvert_exporter": "python",
   "pygments_lexer": "ipython3",
   "version": "3.8.0"
  }
 },
 "nbformat": 4,
 "nbformat_minor": 5
}
